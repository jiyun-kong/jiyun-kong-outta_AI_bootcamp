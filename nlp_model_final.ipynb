{
  "cells": [
    {
      "cell_type": "markdown",
      "metadata": {
        "id": "view-in-github",
        "colab_type": "text"
      },
      "source": [
        "<a href=\"https://colab.research.google.com/github/jiyun-kong/outta_AI_bootcamp/blob/main/nlp_model_final.ipynb\" target=\"_parent\"><img src=\"https://colab.research.google.com/assets/colab-badge.svg\" alt=\"Open In Colab\"/></a>"
      ]
    },
    {
      "cell_type": "markdown",
      "metadata": {
        "id": "QPnOdOwb-SUh"
      },
      "source": [
        "model"
      ]
    },
    {
      "cell_type": "code",
      "execution_count": null,
      "metadata": {
        "id": "hFObPWNAeIao",
        "colab": {
          "base_uri": "https://localhost:8080/"
        },
        "outputId": "5a0b1465-c839-4493-82bc-0f1cde9723cd"
      },
      "outputs": [
        {
          "output_type": "stream",
          "name": "stdout",
          "text": [
            "Looking in indexes: https://pypi.org/simple, https://us-python.pkg.dev/colab-wheels/public/simple/\n",
            "Collecting transformers==3.0.2\n",
            "  Downloading transformers-3.0.2-py3-none-any.whl (769 kB)\n",
            "\u001b[K     |████████████████████████████████| 769 kB 13.9 MB/s \n",
            "\u001b[?25hCollecting tokenizers==0.8.1.rc1\n",
            "  Downloading tokenizers-0.8.1rc1-cp37-cp37m-manylinux1_x86_64.whl (3.0 MB)\n",
            "\u001b[K     |████████████████████████████████| 3.0 MB 31.7 MB/s \n",
            "\u001b[?25hRequirement already satisfied: filelock in /usr/local/lib/python3.7/dist-packages (from transformers==3.0.2) (3.7.1)\n",
            "Requirement already satisfied: regex!=2019.12.17 in /usr/local/lib/python3.7/dist-packages (from transformers==3.0.2) (2022.6.2)\n",
            "Requirement already satisfied: tqdm>=4.27 in /usr/local/lib/python3.7/dist-packages (from transformers==3.0.2) (4.64.0)\n",
            "Requirement already satisfied: packaging in /usr/local/lib/python3.7/dist-packages (from transformers==3.0.2) (21.3)\n",
            "Requirement already satisfied: requests in /usr/local/lib/python3.7/dist-packages (from transformers==3.0.2) (2.23.0)\n",
            "Requirement already satisfied: numpy in /usr/local/lib/python3.7/dist-packages (from transformers==3.0.2) (1.21.6)\n",
            "Collecting sacremoses\n",
            "  Downloading sacremoses-0.0.53.tar.gz (880 kB)\n",
            "\u001b[K     |████████████████████████████████| 880 kB 43.8 MB/s \n",
            "\u001b[?25hCollecting sentencepiece!=0.1.92\n",
            "  Downloading sentencepiece-0.1.97-cp37-cp37m-manylinux_2_17_x86_64.manylinux2014_x86_64.whl (1.3 MB)\n",
            "\u001b[K     |████████████████████████████████| 1.3 MB 38.4 MB/s \n",
            "\u001b[?25hRequirement already satisfied: pyparsing!=3.0.5,>=2.0.2 in /usr/local/lib/python3.7/dist-packages (from packaging->transformers==3.0.2) (3.0.9)\n",
            "Requirement already satisfied: chardet<4,>=3.0.2 in /usr/local/lib/python3.7/dist-packages (from requests->transformers==3.0.2) (3.0.4)\n",
            "Requirement already satisfied: certifi>=2017.4.17 in /usr/local/lib/python3.7/dist-packages (from requests->transformers==3.0.2) (2022.6.15)\n",
            "Requirement already satisfied: idna<3,>=2.5 in /usr/local/lib/python3.7/dist-packages (from requests->transformers==3.0.2) (2.10)\n",
            "Requirement already satisfied: urllib3!=1.25.0,!=1.25.1,<1.26,>=1.21.1 in /usr/local/lib/python3.7/dist-packages (from requests->transformers==3.0.2) (1.24.3)\n",
            "Requirement already satisfied: six in /usr/local/lib/python3.7/dist-packages (from sacremoses->transformers==3.0.2) (1.15.0)\n",
            "Requirement already satisfied: click in /usr/local/lib/python3.7/dist-packages (from sacremoses->transformers==3.0.2) (7.1.2)\n",
            "Requirement already satisfied: joblib in /usr/local/lib/python3.7/dist-packages (from sacremoses->transformers==3.0.2) (1.1.0)\n",
            "Building wheels for collected packages: sacremoses\n",
            "  Building wheel for sacremoses (setup.py) ... \u001b[?25l\u001b[?25hdone\n",
            "  Created wheel for sacremoses: filename=sacremoses-0.0.53-py3-none-any.whl size=895260 sha256=e9cb33d735c5d056129509e0c5600b3656e09b45e8e7863054cc9dc8b11d3702\n",
            "  Stored in directory: /root/.cache/pip/wheels/87/39/dd/a83eeef36d0bf98e7a4d1933a4ad2d660295a40613079bafc9\n",
            "Successfully built sacremoses\n",
            "Installing collected packages: tokenizers, sentencepiece, sacremoses, transformers\n",
            "Successfully installed sacremoses-0.0.53 sentencepiece-0.1.97 tokenizers-0.8.1rc1 transformers-3.0.2\n"
          ]
        }
      ],
      "source": [
        "!pip install transformers==3.0.2"
      ]
    },
    {
      "cell_type": "code",
      "execution_count": null,
      "metadata": {
        "id": "pDmsaQJ0rnyg"
      },
      "outputs": [],
      "source": [
        "def mount_drive():  \n",
        "    from google.colab import drive\n",
        "    drive.mount('/content/gdrive')"
      ]
    },
    {
      "cell_type": "code",
      "execution_count": null,
      "metadata": {
        "colab": {
          "base_uri": "https://localhost:8080/"
        },
        "id": "sMTTH0AAiV9O",
        "outputId": "2e29fdb9-8fd1-40c9-d447-7dd31e8445a5"
      },
      "outputs": [
        {
          "output_type": "stream",
          "name": "stdout",
          "text": [
            "Mounted at /content/gdrive\n"
          ]
        }
      ],
      "source": [
        "if __name__ == \"__main__\":\n",
        "    mount_drive()"
      ]
    },
    {
      "cell_type": "code",
      "execution_count": null,
      "metadata": {
        "id": "9Tj07ECUMfN-"
      },
      "outputs": [],
      "source": [
        "import torch\n",
        "from transformers import get_linear_schedule_with_warmup, BertForSequenceClassification, BertConfig"
      ]
    },
    {
      "cell_type": "code",
      "execution_count": null,
      "metadata": {
        "id": "07CmMoztqKZJ"
      },
      "outputs": [],
      "source": [
        "from torch import nn\n",
        "from transformers import BertModel, BertConfig\n",
        "\n",
        "class BertClassifier(nn.Module):\n",
        "\n",
        "    # BertClassifier는 초대용량 AI 모델인 BertModel을 파인튜닝한 모델이다.\n",
        "    # 구체적으로, BertModel 위에 linear한 층 하나를 추가해 놓은 모델이다.\n",
        "    # Bert -> Linear -> Softmax의 순서로 연산이 이루어진다.\n",
        "    # 우리가 Loss를 구하는데 사용되는 CrossEntropyLoss의 경우, softmax를 자동으로 포함하여 연산해준다.\n",
        "    # 고로, BertClassifier 클래스 내의 forward 함수에, softmax는 포함시키지 않는다.\n",
        "    # 단, 학습의 용도가 아니라 테스트나 실제 시연을 할 때는 forward 결과물에 softmax를 적용시켜줘야 한다.\n",
        "\n",
        "    def __init__(self, num_labels=7):\n",
        "\n",
        "        super(BertClassifier, self).__init__()\n",
        "\n",
        "        model_config = BertConfig.from_pretrained('monologg/kobert')\n",
        "        \n",
        "        # model_config와 from_pretrained 함수를 활용해서 bert 모델을 선언해주자.\n",
        "        # self.bert = ~~ 꼴로 작성해주자.\n",
        "        ## 여기에 코드 작성\n",
        "        self.bert = model_config\n",
        "        # nn 라이브러리를 활용해서 linear 모델을 선언해주자.\n",
        "        # self.linear = ~~ 꼴로 작성해주자.\n",
        "        # bert의 경우, 768차원 벡터를 산출해준다.\n",
        "        # linear는 768차원의 값을 입력받아 7차원의 값을 출력해주어야 한다.\n",
        "        ## 여기에 코드 작성\n",
        "        self.linear = nn.Linear(in_features = 768, out_features = 7, bias = False)\n",
        "\n",
        "    def forward(self, input_ids, attention_mask):\n",
        "        # 위에서 생성한 self.bert, self.linear 두 개의 layer를 활용하면 된다.\n",
        "        # bert -> linear를 적용해준 다음, 출력값을 리턴해주자.\n",
        "        # Hint: 만약 __init__에서 self.bert라는 bert layer를 생성하였고 이를 forward 함수에서 활용하려면, 생성한 bert layer의 forward 함수를 활용하면 될 것이다.\n",
        "        #       bert layer의 forward 함수는 input_ids와 attention_mask를 변수로 입력받아야 한다. 이에 따라, self.bert(input_ids, attention_mask)와 같은 방식으로 코드를 작성하면 될 것이다.\n",
        "        \n",
        "        ## 여기에 코드 작성\n",
        "        outputs, outputs_cls, attn_probs = self.bert(input_ids, attention_mask)\n",
        "        logits_cls = self.linear(outputs_cls)\n",
        "\n",
        "        return logits_cls, attn_probs"
      ]
    },
    {
      "cell_type": "code",
      "execution_count": null,
      "metadata": {
        "id": "GXFoQEm9-NUJ"
      },
      "outputs": [],
      "source": [
        "# 분류를 위한 BERT 모델 생성\n",
        "# BertModel을 초기화하는 역할\n",
        "def BertModelInitialization():\n",
        "    PATH = \"/content/gdrive/MyDrive/NLP/model.pt\"\n",
        "    \n",
        "    # BertModel은 다양한 작업을 진행할 수 있도록 해주는 여러 인터페이스들을 제공한다.\n",
        "    # 그 중, 본 중간 미션의 task에 가장 적합한 인터페이스를 찾아보자.\n",
        "    # Hint 1 : HuggingFace 홈페이지에 Bert를 검색해서 찾아보자.\n",
        "    # URL : https://huggingface.co/docs/transformers/main/en/index\n",
        "    # Hint 2 : 본 중간 미션이, 영화리뷰를 긍정과 부정의 두 가지 감정으로 분류해내는 작업임을 고려해보자.\n",
        "\n",
        "    model = BertClassifier()\n",
        "\n",
        "    # 생성한 모델을 특정 PATH에 저장\n",
        "    torch.save(model.state_dict(), PATH)"
      ]
    },
    {
      "cell_type": "code",
      "execution_count": null,
      "metadata": {
        "id": "q8oypFVGdt2X"
      },
      "outputs": [],
      "source": [
        "def get_model(device, cuda_available):\n",
        "    PATH = \"model.pt\"\n",
        "\n",
        "    model = BertClassifier()\n",
        "\n",
        "    if cuda_available:\n",
        "        # PATH에 저장된 모델 불러옴\n",
        "        model.load_state_dict(torch.load(PATH), strict=False)\n",
        "\n",
        "        # 불러온 모델을 device에 등록\n",
        "        model = model.to(device)\n",
        "    else:\n",
        "        # PATH에 저장된 모델을 불러오기 및 불러온 모델을 device에 등록\n",
        "        model.load_state_dict(torch.load(PATH, map_location=device), strict=False)\n",
        "    \n",
        "    return model"
      ]
    },
    {
      "cell_type": "markdown",
      "metadata": {
        "id": "fUf6MZ3zplat"
      },
      "source": [
        "**신경망 성능 향상을 위한 다양한 툴**\n",
        "\n",
        "\n",
        "\n",
        "> 최종미션을 위한 이론문서를 확인해보자.\n",
        "\n",
        "\n",
        "- 여러분은 옵티마이저, 에포크 수, 스케줄러 종류를 본 task에 가장 적합한 것으로 선택하여 바꿀 수 있다.\n",
        "- 정답은 없다. 최적의 모델을 선택하여 신경망의 성능을 높여보자!\n",
        "\n",
        "\n"
      ]
    },
    {
      "cell_type": "code",
      "execution_count": null,
      "metadata": {
        "id": "BcFCBaNkXxrv"
      },
      "outputs": [],
      "source": [
        "def get_model_with_params(num_data, device, cuda_available):\n",
        "    model = get_model(device, cuda_available)\n",
        "\n",
        "    # 옵티마이저 설정\n",
        "    optimizer = torch.optim.AdamW(model.parameters(),\n",
        "                      lr = 1e-5, # 학습률\n",
        "                      eps = 1e-8 # 0으로 나누는 것을 방지하기 위한 epsilon 값,\n",
        "                    )\n",
        "    # 전체 데이터가 총 몇 번 학습되는지\n",
        "    epochs = 3\n",
        "\n",
        "    # 총 훈련 스텝\n",
        "    total_steps = num_data * epochs\n",
        "\n",
        "    # 학습이 이루어짐에 따라 learning_rate을 감소시키기 위한 스케줄러\n",
        "    scheduler = get_linear_schedule_with_warmup(optimizer, \n",
        "                                                num_warmup_steps = 0,\n",
        "                                                num_training_steps = total_steps)\n",
        "  \n",
        "    # nn 라이브러리에서 crossentropy 형식으로 loss를 계산하는 모델을 찾아서 손실함수로 설정해주자.\n",
        "    # criterion = ~~ 꼴로 작성해주자.\n",
        "    ## 여기에 코드 작성\n",
        "    criterion = nn.CrossEntropyLoss()\n",
        "    \n",
        "    return model, optimizer, scheduler, epochs, criterion\n"
      ]
    },
    {
      "cell_type": "code",
      "execution_count": null,
      "metadata": {
        "id": "ihB4OGzxscad"
      },
      "outputs": [],
      "source": [
        "def main():\n",
        "    %cd /content/gdrive/MyDrive/NLP\n",
        "    device = torch.device(\"cuda\" if torch.cuda.is_available() else \"cpu\")\n",
        "\n",
        "    BertModelInitialization()\n",
        "    print(get_model_with_params(34388, device, torch.cuda.is_available()))"
      ]
    },
    {
      "cell_type": "code",
      "execution_count": null,
      "metadata": {
        "id": "KvhcU7f8Vdxy",
        "colab": {
          "base_uri": "https://localhost:8080/",
          "height": 321,
          "referenced_widgets": [
            "d3dd15af6e4c4ee4b65ce6162f846378",
            "62f8045006b44537b3ed0d47232fd687",
            "d85fce7053b741e3a6d6a04c517a6adb",
            "d0f205a75baf4d30b95540735a8733c5",
            "d0d87893664444acaf3032591645f15f",
            "e9f58ae84f2d4792b7d18ea09806accc",
            "13f1db32bc834e9895e7e0b913a26a4c",
            "600797a72f604256a9006b16b9478f72",
            "3549401632f64db9bc446ca2f5e97e3b",
            "9a70cfe8e8084fa9a92cc2f642f199bc",
            "eafec42a1d90456f98addd322b4021fb"
          ]
        },
        "outputId": "e70ecefa-305d-4b98-d67f-1f105f201457"
      },
      "outputs": [
        {
          "output_type": "stream",
          "name": "stdout",
          "text": [
            "/content/gdrive/MyDrive/NLP\n"
          ]
        },
        {
          "output_type": "display_data",
          "data": {
            "text/plain": [
              "Downloading:   0%|          | 0.00/426 [00:00<?, ?B/s]"
            ],
            "application/vnd.jupyter.widget-view+json": {
              "version_major": 2,
              "version_minor": 0,
              "model_id": "d3dd15af6e4c4ee4b65ce6162f846378"
            }
          },
          "metadata": {}
        },
        {
          "output_type": "stream",
          "name": "stdout",
          "text": [
            "(BertClassifier(\n",
            "  (linear): Linear(in_features=768, out_features=7, bias=False)\n",
            "), AdamW (\n",
            "Parameter Group 0\n",
            "    amsgrad: False\n",
            "    betas: (0.9, 0.999)\n",
            "    capturable: False\n",
            "    eps: 1e-08\n",
            "    foreach: None\n",
            "    initial_lr: 1e-05\n",
            "    lr: 1e-05\n",
            "    maximize: False\n",
            "    weight_decay: 0.01\n",
            "), <torch.optim.lr_scheduler.LambdaLR object at 0x7f9a9cbc90d0>, 3, CrossEntropyLoss())\n"
          ]
        }
      ],
      "source": [
        "if __name__ == '__main__':\n",
        "      main()"
      ]
    },
    {
      "cell_type": "code",
      "source": [
        ""
      ],
      "metadata": {
        "id": "tCeYrzc1KGZb"
      },
      "execution_count": null,
      "outputs": []
    }
  ],
  "metadata": {
    "colab": {
      "collapsed_sections": [],
      "name": "nlp_model_final.ipynb",
      "provenance": [],
      "include_colab_link": true
    },
    "kernelspec": {
      "display_name": "Python 3 (ipykernel)",
      "language": "python",
      "name": "python3"
    },
    "language_info": {
      "codemirror_mode": {
        "name": "ipython",
        "version": 3
      },
      "file_extension": ".py",
      "mimetype": "text/x-python",
      "name": "python",
      "nbconvert_exporter": "python",
      "pygments_lexer": "ipython3",
      "version": "3.8.13"
    },
    "widgets": {
      "application/vnd.jupyter.widget-state+json": {
        "d3dd15af6e4c4ee4b65ce6162f846378": {
          "model_module": "@jupyter-widgets/controls",
          "model_name": "HBoxModel",
          "model_module_version": "1.5.0",
          "state": {
            "_dom_classes": [],
            "_model_module": "@jupyter-widgets/controls",
            "_model_module_version": "1.5.0",
            "_model_name": "HBoxModel",
            "_view_count": null,
            "_view_module": "@jupyter-widgets/controls",
            "_view_module_version": "1.5.0",
            "_view_name": "HBoxView",
            "box_style": "",
            "children": [
              "IPY_MODEL_62f8045006b44537b3ed0d47232fd687",
              "IPY_MODEL_d85fce7053b741e3a6d6a04c517a6adb",
              "IPY_MODEL_d0f205a75baf4d30b95540735a8733c5"
            ],
            "layout": "IPY_MODEL_d0d87893664444acaf3032591645f15f"
          }
        },
        "62f8045006b44537b3ed0d47232fd687": {
          "model_module": "@jupyter-widgets/controls",
          "model_name": "HTMLModel",
          "model_module_version": "1.5.0",
          "state": {
            "_dom_classes": [],
            "_model_module": "@jupyter-widgets/controls",
            "_model_module_version": "1.5.0",
            "_model_name": "HTMLModel",
            "_view_count": null,
            "_view_module": "@jupyter-widgets/controls",
            "_view_module_version": "1.5.0",
            "_view_name": "HTMLView",
            "description": "",
            "description_tooltip": null,
            "layout": "IPY_MODEL_e9f58ae84f2d4792b7d18ea09806accc",
            "placeholder": "​",
            "style": "IPY_MODEL_13f1db32bc834e9895e7e0b913a26a4c",
            "value": "Downloading: 100%"
          }
        },
        "d85fce7053b741e3a6d6a04c517a6adb": {
          "model_module": "@jupyter-widgets/controls",
          "model_name": "FloatProgressModel",
          "model_module_version": "1.5.0",
          "state": {
            "_dom_classes": [],
            "_model_module": "@jupyter-widgets/controls",
            "_model_module_version": "1.5.0",
            "_model_name": "FloatProgressModel",
            "_view_count": null,
            "_view_module": "@jupyter-widgets/controls",
            "_view_module_version": "1.5.0",
            "_view_name": "ProgressView",
            "bar_style": "success",
            "description": "",
            "description_tooltip": null,
            "layout": "IPY_MODEL_600797a72f604256a9006b16b9478f72",
            "max": 426,
            "min": 0,
            "orientation": "horizontal",
            "style": "IPY_MODEL_3549401632f64db9bc446ca2f5e97e3b",
            "value": 426
          }
        },
        "d0f205a75baf4d30b95540735a8733c5": {
          "model_module": "@jupyter-widgets/controls",
          "model_name": "HTMLModel",
          "model_module_version": "1.5.0",
          "state": {
            "_dom_classes": [],
            "_model_module": "@jupyter-widgets/controls",
            "_model_module_version": "1.5.0",
            "_model_name": "HTMLModel",
            "_view_count": null,
            "_view_module": "@jupyter-widgets/controls",
            "_view_module_version": "1.5.0",
            "_view_name": "HTMLView",
            "description": "",
            "description_tooltip": null,
            "layout": "IPY_MODEL_9a70cfe8e8084fa9a92cc2f642f199bc",
            "placeholder": "​",
            "style": "IPY_MODEL_eafec42a1d90456f98addd322b4021fb",
            "value": " 426/426 [00:00&lt;00:00, 7.18kB/s]"
          }
        },
        "d0d87893664444acaf3032591645f15f": {
          "model_module": "@jupyter-widgets/base",
          "model_name": "LayoutModel",
          "model_module_version": "1.2.0",
          "state": {
            "_model_module": "@jupyter-widgets/base",
            "_model_module_version": "1.2.0",
            "_model_name": "LayoutModel",
            "_view_count": null,
            "_view_module": "@jupyter-widgets/base",
            "_view_module_version": "1.2.0",
            "_view_name": "LayoutView",
            "align_content": null,
            "align_items": null,
            "align_self": null,
            "border": null,
            "bottom": null,
            "display": null,
            "flex": null,
            "flex_flow": null,
            "grid_area": null,
            "grid_auto_columns": null,
            "grid_auto_flow": null,
            "grid_auto_rows": null,
            "grid_column": null,
            "grid_gap": null,
            "grid_row": null,
            "grid_template_areas": null,
            "grid_template_columns": null,
            "grid_template_rows": null,
            "height": null,
            "justify_content": null,
            "justify_items": null,
            "left": null,
            "margin": null,
            "max_height": null,
            "max_width": null,
            "min_height": null,
            "min_width": null,
            "object_fit": null,
            "object_position": null,
            "order": null,
            "overflow": null,
            "overflow_x": null,
            "overflow_y": null,
            "padding": null,
            "right": null,
            "top": null,
            "visibility": null,
            "width": null
          }
        },
        "e9f58ae84f2d4792b7d18ea09806accc": {
          "model_module": "@jupyter-widgets/base",
          "model_name": "LayoutModel",
          "model_module_version": "1.2.0",
          "state": {
            "_model_module": "@jupyter-widgets/base",
            "_model_module_version": "1.2.0",
            "_model_name": "LayoutModel",
            "_view_count": null,
            "_view_module": "@jupyter-widgets/base",
            "_view_module_version": "1.2.0",
            "_view_name": "LayoutView",
            "align_content": null,
            "align_items": null,
            "align_self": null,
            "border": null,
            "bottom": null,
            "display": null,
            "flex": null,
            "flex_flow": null,
            "grid_area": null,
            "grid_auto_columns": null,
            "grid_auto_flow": null,
            "grid_auto_rows": null,
            "grid_column": null,
            "grid_gap": null,
            "grid_row": null,
            "grid_template_areas": null,
            "grid_template_columns": null,
            "grid_template_rows": null,
            "height": null,
            "justify_content": null,
            "justify_items": null,
            "left": null,
            "margin": null,
            "max_height": null,
            "max_width": null,
            "min_height": null,
            "min_width": null,
            "object_fit": null,
            "object_position": null,
            "order": null,
            "overflow": null,
            "overflow_x": null,
            "overflow_y": null,
            "padding": null,
            "right": null,
            "top": null,
            "visibility": null,
            "width": null
          }
        },
        "13f1db32bc834e9895e7e0b913a26a4c": {
          "model_module": "@jupyter-widgets/controls",
          "model_name": "DescriptionStyleModel",
          "model_module_version": "1.5.0",
          "state": {
            "_model_module": "@jupyter-widgets/controls",
            "_model_module_version": "1.5.0",
            "_model_name": "DescriptionStyleModel",
            "_view_count": null,
            "_view_module": "@jupyter-widgets/base",
            "_view_module_version": "1.2.0",
            "_view_name": "StyleView",
            "description_width": ""
          }
        },
        "600797a72f604256a9006b16b9478f72": {
          "model_module": "@jupyter-widgets/base",
          "model_name": "LayoutModel",
          "model_module_version": "1.2.0",
          "state": {
            "_model_module": "@jupyter-widgets/base",
            "_model_module_version": "1.2.0",
            "_model_name": "LayoutModel",
            "_view_count": null,
            "_view_module": "@jupyter-widgets/base",
            "_view_module_version": "1.2.0",
            "_view_name": "LayoutView",
            "align_content": null,
            "align_items": null,
            "align_self": null,
            "border": null,
            "bottom": null,
            "display": null,
            "flex": null,
            "flex_flow": null,
            "grid_area": null,
            "grid_auto_columns": null,
            "grid_auto_flow": null,
            "grid_auto_rows": null,
            "grid_column": null,
            "grid_gap": null,
            "grid_row": null,
            "grid_template_areas": null,
            "grid_template_columns": null,
            "grid_template_rows": null,
            "height": null,
            "justify_content": null,
            "justify_items": null,
            "left": null,
            "margin": null,
            "max_height": null,
            "max_width": null,
            "min_height": null,
            "min_width": null,
            "object_fit": null,
            "object_position": null,
            "order": null,
            "overflow": null,
            "overflow_x": null,
            "overflow_y": null,
            "padding": null,
            "right": null,
            "top": null,
            "visibility": null,
            "width": null
          }
        },
        "3549401632f64db9bc446ca2f5e97e3b": {
          "model_module": "@jupyter-widgets/controls",
          "model_name": "ProgressStyleModel",
          "model_module_version": "1.5.0",
          "state": {
            "_model_module": "@jupyter-widgets/controls",
            "_model_module_version": "1.5.0",
            "_model_name": "ProgressStyleModel",
            "_view_count": null,
            "_view_module": "@jupyter-widgets/base",
            "_view_module_version": "1.2.0",
            "_view_name": "StyleView",
            "bar_color": null,
            "description_width": ""
          }
        },
        "9a70cfe8e8084fa9a92cc2f642f199bc": {
          "model_module": "@jupyter-widgets/base",
          "model_name": "LayoutModel",
          "model_module_version": "1.2.0",
          "state": {
            "_model_module": "@jupyter-widgets/base",
            "_model_module_version": "1.2.0",
            "_model_name": "LayoutModel",
            "_view_count": null,
            "_view_module": "@jupyter-widgets/base",
            "_view_module_version": "1.2.0",
            "_view_name": "LayoutView",
            "align_content": null,
            "align_items": null,
            "align_self": null,
            "border": null,
            "bottom": null,
            "display": null,
            "flex": null,
            "flex_flow": null,
            "grid_area": null,
            "grid_auto_columns": null,
            "grid_auto_flow": null,
            "grid_auto_rows": null,
            "grid_column": null,
            "grid_gap": null,
            "grid_row": null,
            "grid_template_areas": null,
            "grid_template_columns": null,
            "grid_template_rows": null,
            "height": null,
            "justify_content": null,
            "justify_items": null,
            "left": null,
            "margin": null,
            "max_height": null,
            "max_width": null,
            "min_height": null,
            "min_width": null,
            "object_fit": null,
            "object_position": null,
            "order": null,
            "overflow": null,
            "overflow_x": null,
            "overflow_y": null,
            "padding": null,
            "right": null,
            "top": null,
            "visibility": null,
            "width": null
          }
        },
        "eafec42a1d90456f98addd322b4021fb": {
          "model_module": "@jupyter-widgets/controls",
          "model_name": "DescriptionStyleModel",
          "model_module_version": "1.5.0",
          "state": {
            "_model_module": "@jupyter-widgets/controls",
            "_model_module_version": "1.5.0",
            "_model_name": "DescriptionStyleModel",
            "_view_count": null,
            "_view_module": "@jupyter-widgets/base",
            "_view_module_version": "1.2.0",
            "_view_name": "StyleView",
            "description_width": ""
          }
        }
      }
    }
  },
  "nbformat": 4,
  "nbformat_minor": 0
}