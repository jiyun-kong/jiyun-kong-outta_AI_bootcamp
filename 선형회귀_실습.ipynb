{
  "nbformat": 4,
  "nbformat_minor": 0,
  "metadata": {
    "colab": {
      "name": "선형회귀_실습.ipynb",
      "provenance": [],
      "authorship_tag": "ABX9TyPXF3lVjX3cOXvcdbGnf/O4",
      "include_colab_link": true
    },
    "kernelspec": {
      "name": "python3",
      "display_name": "Python 3"
    },
    "language_info": {
      "name": "python"
    }
  },
  "cells": [
    {
      "cell_type": "markdown",
      "metadata": {
        "id": "view-in-github",
        "colab_type": "text"
      },
      "source": [
        "<a href=\"https://colab.research.google.com/github/jiyun-kong/outta_AI_bootcamp/blob/main/%EC%84%A0%ED%98%95%ED%9A%8C%EA%B7%80_%EC%8B%A4%EC%8A%B5.ipynb\" target=\"_parent\"><img src=\"https://colab.research.google.com/assets/colab-badge.svg\" alt=\"Open In Colab\"/></a>"
      ]
    },
    {
      "cell_type": "markdown",
      "source": [
        "# 최소제곱법 구현하기"
      ],
      "metadata": {
        "id": "YPASLeoS9LLe"
      }
    },
    {
      "cell_type": "code",
      "source": [
        "import numpy as np\n",
        "\n",
        "def ordinaray_least_squares(x, y):\n",
        "  '''\n",
        "  데이터 x, y에 대해 mx + b와 실제 y의 잔차제곱합을 최소화하는 직선의 기울기 m과 y절편을 구하는 함수\n",
        "\n",
        "  x : 독립변수\n",
        "  y : 종속변수\n",
        "  반환값 : m, d\n",
        "  '''\n",
        "  n = x.size\n",
        "  m = (np.matmul(x, y) - x.sum() * y.sum() / n) / np.matmul(x, x) - (1/n) * x.sum() ** 2\n",
        "  b = y.mean() - m*x.mean()\n",
        "  \n",
        "  return m, b\n",
        "\n",
        "  "
      ],
      "metadata": {
        "id": "mXdG4HCc9kKL"
      },
      "execution_count": null,
      "outputs": []
    },
    {
      "cell_type": "markdown",
      "source": [
        "# 1) 데이터셋 다운로드"
      ],
      "metadata": {
        "id": "admFgDqPCyHc"
      }
    },
    {
      "cell_type": "code",
      "source": [
        "!pip install wget\n",
        "import wget\n",
        "wget.download(\"https://storage.googleapis.com/outta/nba_draft_measurements.nc\")"
      ],
      "metadata": {
        "colab": {
          "base_uri": "https://localhost:8080/",
          "height": 237
        },
        "id": "QaayqNV0HpH7",
        "outputId": "095957c1-e401-4d9e-8c52-f6b1636208d7"
      },
      "execution_count": null,
      "outputs": [
        {
          "output_type": "stream",
          "name": "stdout",
          "text": [
            "Looking in indexes: https://pypi.org/simple, https://us-python.pkg.dev/colab-wheels/public/simple/\n",
            "Collecting wget\n",
            "  Downloading wget-3.2.zip (10 kB)\n",
            "Building wheels for collected packages: wget\n",
            "  Building wheel for wget (setup.py) ... \u001b[?25l\u001b[?25hdone\n",
            "  Created wheel for wget: filename=wget-3.2-py3-none-any.whl size=9675 sha256=a86e69d464cd339f458aea726b5736986ee8cb3429231656b1ee0e00736b61b5\n",
            "  Stored in directory: /root/.cache/pip/wheels/a1/b6/7c/0e63e34eb06634181c63adacca38b79ff8f35c37e3c13e3c02\n",
            "Successfully built wget\n",
            "Installing collected packages: wget\n",
            "Successfully installed wget-3.2\n"
          ]
        },
        {
          "output_type": "execute_result",
          "data": {
            "text/plain": [
              "'nba_draft_measurements.nc'"
            ],
            "application/vnd.google.colaboratory.intrinsic+json": {
              "type": "string"
            }
          },
          "metadata": {},
          "execution_count": 2
        }
      ]
    },
    {
      "cell_type": "markdown",
      "source": [
        "# 2) 데이터셋 살펴보기"
      ],
      "metadata": {
        "id": "H2BSzoVuH1NV"
      }
    },
    {
      "cell_type": "code",
      "source": [
        "from pathlib import Path\n",
        "import xarray as xr\n",
        "draft_data = xr.load_dataset(Path.cwd() / \"nba_draft_measurements.nc\")\n",
        "\n",
        "draft_data"
      ],
      "metadata": {
        "colab": {
          "base_uri": "https://localhost:8080/",
          "height": 745
        },
        "id": "SiADTArsH843",
        "outputId": "99b14191-212d-46fd-a84a-cc162d4dd453"
      },
      "execution_count": null,
      "outputs": [
        {
          "output_type": "execute_result",
          "data": {
            "text/plain": [
              "<xarray.Dataset>\n",
              "Dimensions:            (names: 70)\n",
              "Coordinates:\n",
              "  * names              (names) object 'Nickeil Alexander-Walker' ... 'Dylan W...\n",
              "Data variables:\n",
              "    position           (names) object 'SG' 'C' 'PF' 'C' ... 'PG' 'SF' 'PF' 'SF'\n",
              "    height_no_shoes    (names) float64 76.25 80.75 79.75 ... 78.25 77.75 78.25\n",
              "    height_with_shoes  (names) float64 77.5 82.0 81.0 86.5 ... 79.75 79.5 79.5\n",
              "    weight             (names) float64 203.8 239.0 208.4 ... 208.8 240.2 195.8\n",
              "    wingspan           (names) float64 81.5 87.5 84.0 91.0 ... 82.75 81.75 82.0\n",
              "    standing_reach     (names) float64 102.0 109.5 107.0 ... 103.0 104.5 104.5\n",
              "    body_fat_prcnt     (names) float64 5.9 8.5 3.6 7.1 5.0 ... 4.3 4.9 5.4 4.6\n",
              "    hand_length        (names) float64 8.5 9.25 9.0 9.25 ... 7.75 8.5 9.0 8.25\n",
              "    hand_width         (names) float64 8.75 9.5 9.75 9.5 ... 9.0 9.5 10.5 9.5\n",
              "Attributes:\n",
              "    length-units:  inches\n",
              "    weight-units:  pounds\n",
              "    readme:        \\nDescribes various measurements of athletes who participa...\n",
              "    url:           https://www.nbadraft.net/2019-nba-draft-combine-measurements/"
            ],
            "text/html": [
              "<div><svg style=\"position: absolute; width: 0; height: 0; overflow: hidden\">\n",
              "<defs>\n",
              "<symbol id=\"icon-database\" viewBox=\"0 0 32 32\">\n",
              "<path d=\"M16 0c-8.837 0-16 2.239-16 5v4c0 2.761 7.163 5 16 5s16-2.239 16-5v-4c0-2.761-7.163-5-16-5z\"></path>\n",
              "<path d=\"M16 17c-8.837 0-16-2.239-16-5v6c0 2.761 7.163 5 16 5s16-2.239 16-5v-6c0 2.761-7.163 5-16 5z\"></path>\n",
              "<path d=\"M16 26c-8.837 0-16-2.239-16-5v6c0 2.761 7.163 5 16 5s16-2.239 16-5v-6c0 2.761-7.163 5-16 5z\"></path>\n",
              "</symbol>\n",
              "<symbol id=\"icon-file-text2\" viewBox=\"0 0 32 32\">\n",
              "<path d=\"M28.681 7.159c-0.694-0.947-1.662-2.053-2.724-3.116s-2.169-2.030-3.116-2.724c-1.612-1.182-2.393-1.319-2.841-1.319h-15.5c-1.378 0-2.5 1.121-2.5 2.5v27c0 1.378 1.122 2.5 2.5 2.5h23c1.378 0 2.5-1.122 2.5-2.5v-19.5c0-0.448-0.137-1.23-1.319-2.841zM24.543 5.457c0.959 0.959 1.712 1.825 2.268 2.543h-4.811v-4.811c0.718 0.556 1.584 1.309 2.543 2.268zM28 29.5c0 0.271-0.229 0.5-0.5 0.5h-23c-0.271 0-0.5-0.229-0.5-0.5v-27c0-0.271 0.229-0.5 0.5-0.5 0 0 15.499-0 15.5 0v7c0 0.552 0.448 1 1 1h7v19.5z\"></path>\n",
              "<path d=\"M23 26h-14c-0.552 0-1-0.448-1-1s0.448-1 1-1h14c0.552 0 1 0.448 1 1s-0.448 1-1 1z\"></path>\n",
              "<path d=\"M23 22h-14c-0.552 0-1-0.448-1-1s0.448-1 1-1h14c0.552 0 1 0.448 1 1s-0.448 1-1 1z\"></path>\n",
              "<path d=\"M23 18h-14c-0.552 0-1-0.448-1-1s0.448-1 1-1h14c0.552 0 1 0.448 1 1s-0.448 1-1 1z\"></path>\n",
              "</symbol>\n",
              "</defs>\n",
              "</svg>\n",
              "<style>/* CSS stylesheet for displaying xarray objects in jupyterlab.\n",
              " *\n",
              " */\n",
              "\n",
              ":root {\n",
              "  --xr-font-color0: var(--jp-content-font-color0, rgba(0, 0, 0, 1));\n",
              "  --xr-font-color2: var(--jp-content-font-color2, rgba(0, 0, 0, 0.54));\n",
              "  --xr-font-color3: var(--jp-content-font-color3, rgba(0, 0, 0, 0.38));\n",
              "  --xr-border-color: var(--jp-border-color2, #e0e0e0);\n",
              "  --xr-disabled-color: var(--jp-layout-color3, #bdbdbd);\n",
              "  --xr-background-color: var(--jp-layout-color0, white);\n",
              "  --xr-background-color-row-even: var(--jp-layout-color1, white);\n",
              "  --xr-background-color-row-odd: var(--jp-layout-color2, #eeeeee);\n",
              "}\n",
              "\n",
              "html[theme=dark],\n",
              "body.vscode-dark {\n",
              "  --xr-font-color0: rgba(255, 255, 255, 1);\n",
              "  --xr-font-color2: rgba(255, 255, 255, 0.54);\n",
              "  --xr-font-color3: rgba(255, 255, 255, 0.38);\n",
              "  --xr-border-color: #1F1F1F;\n",
              "  --xr-disabled-color: #515151;\n",
              "  --xr-background-color: #111111;\n",
              "  --xr-background-color-row-even: #111111;\n",
              "  --xr-background-color-row-odd: #313131;\n",
              "}\n",
              "\n",
              ".xr-wrap {\n",
              "  display: block !important;\n",
              "  min-width: 300px;\n",
              "  max-width: 700px;\n",
              "}\n",
              "\n",
              ".xr-text-repr-fallback {\n",
              "  /* fallback to plain text repr when CSS is not injected (untrusted notebook) */\n",
              "  display: none;\n",
              "}\n",
              "\n",
              ".xr-header {\n",
              "  padding-top: 6px;\n",
              "  padding-bottom: 6px;\n",
              "  margin-bottom: 4px;\n",
              "  border-bottom: solid 1px var(--xr-border-color);\n",
              "}\n",
              "\n",
              ".xr-header > div,\n",
              ".xr-header > ul {\n",
              "  display: inline;\n",
              "  margin-top: 0;\n",
              "  margin-bottom: 0;\n",
              "}\n",
              "\n",
              ".xr-obj-type,\n",
              ".xr-array-name {\n",
              "  margin-left: 2px;\n",
              "  margin-right: 10px;\n",
              "}\n",
              "\n",
              ".xr-obj-type {\n",
              "  color: var(--xr-font-color2);\n",
              "}\n",
              "\n",
              ".xr-sections {\n",
              "  padding-left: 0 !important;\n",
              "  display: grid;\n",
              "  grid-template-columns: 150px auto auto 1fr 20px 20px;\n",
              "}\n",
              "\n",
              ".xr-section-item {\n",
              "  display: contents;\n",
              "}\n",
              "\n",
              ".xr-section-item input {\n",
              "  display: none;\n",
              "}\n",
              "\n",
              ".xr-section-item input + label {\n",
              "  color: var(--xr-disabled-color);\n",
              "}\n",
              "\n",
              ".xr-section-item input:enabled + label {\n",
              "  cursor: pointer;\n",
              "  color: var(--xr-font-color2);\n",
              "}\n",
              "\n",
              ".xr-section-item input:enabled + label:hover {\n",
              "  color: var(--xr-font-color0);\n",
              "}\n",
              "\n",
              ".xr-section-summary {\n",
              "  grid-column: 1;\n",
              "  color: var(--xr-font-color2);\n",
              "  font-weight: 500;\n",
              "}\n",
              "\n",
              ".xr-section-summary > span {\n",
              "  display: inline-block;\n",
              "  padding-left: 0.5em;\n",
              "}\n",
              "\n",
              ".xr-section-summary-in:disabled + label {\n",
              "  color: var(--xr-font-color2);\n",
              "}\n",
              "\n",
              ".xr-section-summary-in + label:before {\n",
              "  display: inline-block;\n",
              "  content: '►';\n",
              "  font-size: 11px;\n",
              "  width: 15px;\n",
              "  text-align: center;\n",
              "}\n",
              "\n",
              ".xr-section-summary-in:disabled + label:before {\n",
              "  color: var(--xr-disabled-color);\n",
              "}\n",
              "\n",
              ".xr-section-summary-in:checked + label:before {\n",
              "  content: '▼';\n",
              "}\n",
              "\n",
              ".xr-section-summary-in:checked + label > span {\n",
              "  display: none;\n",
              "}\n",
              "\n",
              ".xr-section-summary,\n",
              ".xr-section-inline-details {\n",
              "  padding-top: 4px;\n",
              "  padding-bottom: 4px;\n",
              "}\n",
              "\n",
              ".xr-section-inline-details {\n",
              "  grid-column: 2 / -1;\n",
              "}\n",
              "\n",
              ".xr-section-details {\n",
              "  display: none;\n",
              "  grid-column: 1 / -1;\n",
              "  margin-bottom: 5px;\n",
              "}\n",
              "\n",
              ".xr-section-summary-in:checked ~ .xr-section-details {\n",
              "  display: contents;\n",
              "}\n",
              "\n",
              ".xr-array-wrap {\n",
              "  grid-column: 1 / -1;\n",
              "  display: grid;\n",
              "  grid-template-columns: 20px auto;\n",
              "}\n",
              "\n",
              ".xr-array-wrap > label {\n",
              "  grid-column: 1;\n",
              "  vertical-align: top;\n",
              "}\n",
              "\n",
              ".xr-preview {\n",
              "  color: var(--xr-font-color3);\n",
              "}\n",
              "\n",
              ".xr-array-preview,\n",
              ".xr-array-data {\n",
              "  padding: 0 5px !important;\n",
              "  grid-column: 2;\n",
              "}\n",
              "\n",
              ".xr-array-data,\n",
              ".xr-array-in:checked ~ .xr-array-preview {\n",
              "  display: none;\n",
              "}\n",
              "\n",
              ".xr-array-in:checked ~ .xr-array-data,\n",
              ".xr-array-preview {\n",
              "  display: inline-block;\n",
              "}\n",
              "\n",
              ".xr-dim-list {\n",
              "  display: inline-block !important;\n",
              "  list-style: none;\n",
              "  padding: 0 !important;\n",
              "  margin: 0;\n",
              "}\n",
              "\n",
              ".xr-dim-list li {\n",
              "  display: inline-block;\n",
              "  padding: 0;\n",
              "  margin: 0;\n",
              "}\n",
              "\n",
              ".xr-dim-list:before {\n",
              "  content: '(';\n",
              "}\n",
              "\n",
              ".xr-dim-list:after {\n",
              "  content: ')';\n",
              "}\n",
              "\n",
              ".xr-dim-list li:not(:last-child):after {\n",
              "  content: ',';\n",
              "  padding-right: 5px;\n",
              "}\n",
              "\n",
              ".xr-has-index {\n",
              "  font-weight: bold;\n",
              "}\n",
              "\n",
              ".xr-var-list,\n",
              ".xr-var-item {\n",
              "  display: contents;\n",
              "}\n",
              "\n",
              ".xr-var-item > div,\n",
              ".xr-var-item label,\n",
              ".xr-var-item > .xr-var-name span {\n",
              "  background-color: var(--xr-background-color-row-even);\n",
              "  margin-bottom: 0;\n",
              "}\n",
              "\n",
              ".xr-var-item > .xr-var-name:hover span {\n",
              "  padding-right: 5px;\n",
              "}\n",
              "\n",
              ".xr-var-list > li:nth-child(odd) > div,\n",
              ".xr-var-list > li:nth-child(odd) > label,\n",
              ".xr-var-list > li:nth-child(odd) > .xr-var-name span {\n",
              "  background-color: var(--xr-background-color-row-odd);\n",
              "}\n",
              "\n",
              ".xr-var-name {\n",
              "  grid-column: 1;\n",
              "}\n",
              "\n",
              ".xr-var-dims {\n",
              "  grid-column: 2;\n",
              "}\n",
              "\n",
              ".xr-var-dtype {\n",
              "  grid-column: 3;\n",
              "  text-align: right;\n",
              "  color: var(--xr-font-color2);\n",
              "}\n",
              "\n",
              ".xr-var-preview {\n",
              "  grid-column: 4;\n",
              "}\n",
              "\n",
              ".xr-var-name,\n",
              ".xr-var-dims,\n",
              ".xr-var-dtype,\n",
              ".xr-preview,\n",
              ".xr-attrs dt {\n",
              "  white-space: nowrap;\n",
              "  overflow: hidden;\n",
              "  text-overflow: ellipsis;\n",
              "  padding-right: 10px;\n",
              "}\n",
              "\n",
              ".xr-var-name:hover,\n",
              ".xr-var-dims:hover,\n",
              ".xr-var-dtype:hover,\n",
              ".xr-attrs dt:hover {\n",
              "  overflow: visible;\n",
              "  width: auto;\n",
              "  z-index: 1;\n",
              "}\n",
              "\n",
              ".xr-var-attrs,\n",
              ".xr-var-data {\n",
              "  display: none;\n",
              "  background-color: var(--xr-background-color) !important;\n",
              "  padding-bottom: 5px !important;\n",
              "}\n",
              "\n",
              ".xr-var-attrs-in:checked ~ .xr-var-attrs,\n",
              ".xr-var-data-in:checked ~ .xr-var-data {\n",
              "  display: block;\n",
              "}\n",
              "\n",
              ".xr-var-data > table {\n",
              "  float: right;\n",
              "}\n",
              "\n",
              ".xr-var-name span,\n",
              ".xr-var-data,\n",
              ".xr-attrs {\n",
              "  padding-left: 25px !important;\n",
              "}\n",
              "\n",
              ".xr-attrs,\n",
              ".xr-var-attrs,\n",
              ".xr-var-data {\n",
              "  grid-column: 1 / -1;\n",
              "}\n",
              "\n",
              "dl.xr-attrs {\n",
              "  padding: 0;\n",
              "  margin: 0;\n",
              "  display: grid;\n",
              "  grid-template-columns: 125px auto;\n",
              "}\n",
              "\n",
              ".xr-attrs dt,\n",
              ".xr-attrs dd {\n",
              "  padding: 0;\n",
              "  margin: 0;\n",
              "  float: left;\n",
              "  padding-right: 10px;\n",
              "  width: auto;\n",
              "}\n",
              "\n",
              ".xr-attrs dt {\n",
              "  font-weight: normal;\n",
              "  grid-column: 1;\n",
              "}\n",
              "\n",
              ".xr-attrs dt:hover span {\n",
              "  display: inline-block;\n",
              "  background: var(--xr-background-color);\n",
              "  padding-right: 10px;\n",
              "}\n",
              "\n",
              ".xr-attrs dd {\n",
              "  grid-column: 2;\n",
              "  white-space: pre-wrap;\n",
              "  word-break: break-all;\n",
              "}\n",
              "\n",
              ".xr-icon-database,\n",
              ".xr-icon-file-text2 {\n",
              "  display: inline-block;\n",
              "  vertical-align: middle;\n",
              "  width: 1em;\n",
              "  height: 1.5em !important;\n",
              "  stroke-width: 0;\n",
              "  stroke: currentColor;\n",
              "  fill: currentColor;\n",
              "}\n",
              "</style><pre class='xr-text-repr-fallback'>&lt;xarray.Dataset&gt;\n",
              "Dimensions:            (names: 70)\n",
              "Coordinates:\n",
              "  * names              (names) object &#x27;Nickeil Alexander-Walker&#x27; ... &#x27;Dylan W...\n",
              "Data variables:\n",
              "    position           (names) object &#x27;SG&#x27; &#x27;C&#x27; &#x27;PF&#x27; &#x27;C&#x27; ... &#x27;PG&#x27; &#x27;SF&#x27; &#x27;PF&#x27; &#x27;SF&#x27;\n",
              "    height_no_shoes    (names) float64 76.25 80.75 79.75 ... 78.25 77.75 78.25\n",
              "    height_with_shoes  (names) float64 77.5 82.0 81.0 86.5 ... 79.75 79.5 79.5\n",
              "    weight             (names) float64 203.8 239.0 208.4 ... 208.8 240.2 195.8\n",
              "    wingspan           (names) float64 81.5 87.5 84.0 91.0 ... 82.75 81.75 82.0\n",
              "    standing_reach     (names) float64 102.0 109.5 107.0 ... 103.0 104.5 104.5\n",
              "    body_fat_prcnt     (names) float64 5.9 8.5 3.6 7.1 5.0 ... 4.3 4.9 5.4 4.6\n",
              "    hand_length        (names) float64 8.5 9.25 9.0 9.25 ... 7.75 8.5 9.0 8.25\n",
              "    hand_width         (names) float64 8.75 9.5 9.75 9.5 ... 9.0 9.5 10.5 9.5\n",
              "Attributes:\n",
              "    length-units:  inches\n",
              "    weight-units:  pounds\n",
              "    readme:        \\nDescribes various measurements of athletes who participa...\n",
              "    url:           https://www.nbadraft.net/2019-nba-draft-combine-measurements/</pre><div class='xr-wrap' style='display:none'><div class='xr-header'><div class='xr-obj-type'>xarray.Dataset</div></div><ul class='xr-sections'><li class='xr-section-item'><input id='section-d7e4f21c-85dc-4a49-aef8-1c6b7a214b78' class='xr-section-summary-in' type='checkbox' disabled ><label for='section-d7e4f21c-85dc-4a49-aef8-1c6b7a214b78' class='xr-section-summary'  title='Expand/collapse section'>Dimensions:</label><div class='xr-section-inline-details'><ul class='xr-dim-list'><li><span class='xr-has-index'>names</span>: 70</li></ul></div><div class='xr-section-details'></div></li><li class='xr-section-item'><input id='section-dae6c407-e125-4bac-84a4-9e37b626cb76' class='xr-section-summary-in' type='checkbox'  checked><label for='section-dae6c407-e125-4bac-84a4-9e37b626cb76' class='xr-section-summary' >Coordinates: <span>(1)</span></label><div class='xr-section-inline-details'></div><div class='xr-section-details'><ul class='xr-var-list'><li class='xr-var-item'><div class='xr-var-name'><span class='xr-has-index'>names</span></div><div class='xr-var-dims'>(names)</div><div class='xr-var-dtype'>object</div><div class='xr-var-preview xr-preview'>&#x27;Nickeil Alexander-Walker&#x27; ... &#x27;...</div><input id='attrs-02a4ea3b-0d22-4f57-a7b0-45f1bff979bd' class='xr-var-attrs-in' type='checkbox' disabled><label for='attrs-02a4ea3b-0d22-4f57-a7b0-45f1bff979bd' title='Show/Hide attributes'><svg class='icon xr-icon-file-text2'><use xlink:href='#icon-file-text2'></use></svg></label><input id='data-a6b85fd4-3a59-4016-801c-cad3e505904c' class='xr-var-data-in' type='checkbox'><label for='data-a6b85fd4-3a59-4016-801c-cad3e505904c' title='Show/Hide data repr'><svg class='icon xr-icon-database'><use xlink:href='#icon-database'></use></svg></label><div class='xr-var-attrs'><dl class='xr-attrs'></dl></div><div class='xr-var-data'><pre>array([&#x27;Nickeil Alexander-Walker&#x27;, &#x27;Charles Bassey&#x27;, &#x27;Darius Bazley&#x27;,\n",
              "       &#x27;Bol Bol&#x27;, &#x27;Jordan Bone&#x27;, &#x27;Brian Bowen II&#x27;, &#x27;Ky Bowman&#x27;,\n",
              "       &#x27;Ignas Brazdeikis&#x27;, &#x27;Oshae Brissett&#x27;, &#x27;Moses Brown&#x27;, &#x27;Brandon Clarke&#x27;,\n",
              "       &#x27;Nicolas Claxton&#x27;, &#x27;Tyler Cook&#x27;, &#x27;Jarrett Culver&#x27;, &#x27;Terence Davis&#x27;,\n",
              "       &#x27;Luguentz Dort&#x27;, &#x27;Devon Dotson&#x27;, &#x27;Carsen Edwards&#x27;, &#x27;Tacko Fall&#x27;,\n",
              "       &#x27;Bruno Fernando&#x27;, &#x27;Daniel Gafford&#x27;, &#x27;Quentin Grimes&#x27;, &#x27;Kyle Guy&#x27;,\n",
              "       &#x27;Jaylen Hands&#x27;, &#x27;Jared Harper&#x27;, &#x27;Jaxson Hayes&#x27;, &#x27;Dewan Hernandez&#x27;,\n",
              "       &#x27;Tyler Herro&#x27;, &#x27;Jaylen Hoard&#x27;, &#x27;Talen Horton-Tucker&#x27;, &#x27;DaQuan Jeffries&#x27;,\n",
              "       &#x27;Ty Jerome&#x27;, &#x27;Keldon Johnson&#x27;, &#x27;Cameron Johnson&#x27;, &#x27;Mfiondu Kabengele&#x27;,\n",
              "       &#x27;Louis King&#x27;, &#x27;Romeo Langford SG&#x27;, &#x27;Dedric Lawson&#x27;, &#x27;Jalen Lecque&#x27;,\n",
              "       &#x27;Nassir Little&#x27;, &#x27;Terance Mann&#x27;, &#x27;Cody Martin&#x27;, &#x27;Charles Matthews&#x27;,\n",
              "       &#x27;Jalen McDaniels&#x27;, &#x27;Zach Norvell Jr.&#x27;, &#x27;Jaylen Nowell&#x27;, &#x27;Jordan Nwora&#x27;,\n",
              "       &#x27;KZ Okpala&#x27;, &#x27;Miye Oni&#x27;, &#x27;Eric Paschall&#x27;, &#x27;Reggie Perry&#x27;,\n",
              "       &#x27;Shamorie Ponds&#x27;, &#x27;Jordan Poole&#x27;, &#x27;Jontay Porter&#x27;, &#x27;Kevin Porter Jr.&#x27;,\n",
              "       &#x27;Neemias Queta&#x27;, &#x27;Cameron Reddish&#x27;, &#x27;Naz Reid&#x27;, &#x27;Isaiah Roby&#x27;,\n",
              "       &#x27;Luka Samanic&#x27;, &#x27;Admiral Schofield&#x27;, &#x27;Marial Shayok&#x27;, &#x27;Simi Shittu&#x27;,\n",
              "       &#x27;PJ Washington&#x27;, &#x27;Tremont Waters&#x27;, &#x27;Quinndary Weatherspoon&#x27;,\n",
              "       &#x27;Coby White&#x27;, &#x27;Kris Wilkes&#x27;, &#x27;Grant Williams&#x27;, &#x27;Dylan Windler&#x27;],\n",
              "      dtype=object)</pre></div></li></ul></div></li><li class='xr-section-item'><input id='section-1502f1d3-8a0a-4bc5-842b-72b4190968bf' class='xr-section-summary-in' type='checkbox'  checked><label for='section-1502f1d3-8a0a-4bc5-842b-72b4190968bf' class='xr-section-summary' >Data variables: <span>(9)</span></label><div class='xr-section-inline-details'></div><div class='xr-section-details'><ul class='xr-var-list'><li class='xr-var-item'><div class='xr-var-name'><span>position</span></div><div class='xr-var-dims'>(names)</div><div class='xr-var-dtype'>object</div><div class='xr-var-preview xr-preview'>&#x27;SG&#x27; &#x27;C&#x27; &#x27;PF&#x27; ... &#x27;SF&#x27; &#x27;PF&#x27; &#x27;SF&#x27;</div><input id='attrs-d43e4980-eaa7-4a66-aba3-fc266be7a373' class='xr-var-attrs-in' type='checkbox' disabled><label for='attrs-d43e4980-eaa7-4a66-aba3-fc266be7a373' title='Show/Hide attributes'><svg class='icon xr-icon-file-text2'><use xlink:href='#icon-file-text2'></use></svg></label><input id='data-548eca15-29c1-4d49-a367-1ace8918f651' class='xr-var-data-in' type='checkbox'><label for='data-548eca15-29c1-4d49-a367-1ace8918f651' title='Show/Hide data repr'><svg class='icon xr-icon-database'><use xlink:href='#icon-database'></use></svg></label><div class='xr-var-attrs'><dl class='xr-attrs'></dl></div><div class='xr-var-data'><pre>array([&#x27;SG&#x27;, &#x27;C&#x27;, &#x27;PF&#x27;, &#x27;C&#x27;, &#x27;SG&#x27;, &#x27;SF&#x27;, &#x27;PG&#x27;, &#x27;SF&#x27;, &#x27;SF-PF&#x27;, &#x27;C&#x27;, &#x27;PF/C&#x27;,\n",
              "       &#x27;C&#x27;, &#x27;PF&#x27;, &#x27;SG&#x27;, &#x27;SG&#x27;, &#x27;PG&#x27;, &#x27;PG&#x27;, &#x27;PG&#x27;, &#x27;C&#x27;, &#x27;C&#x27;, &#x27;PF&#x27;, &#x27;SG&#x27;,\n",
              "       &#x27;SG&#x27;, &#x27;PG&#x27;, &#x27;PG&#x27;, &#x27;PF&#x27;, &#x27;C&#x27;, &#x27;SG&#x27;, &#x27;PF&#x27;, &#x27;SG&#x27;, &#x27;SG&#x27;, &#x27;PG&#x27;, &#x27;SG&#x27;,\n",
              "       &#x27;SG&#x27;, &#x27;PF&#x27;, &#x27;SF&#x27;, &#x27;–&#x27;, &#x27;PF&#x27;, &#x27;PG&#x27;, &#x27;SF&#x27;, &#x27;SG-SF&#x27;, &#x27;PG-SG&#x27;, &#x27;SG&#x27;,\n",
              "       &#x27;SF&#x27;, &#x27;SG&#x27;, &#x27;SG&#x27;, &#x27;PF&#x27;, &#x27;SF&#x27;, &#x27;SG-SF&#x27;, &#x27;PF-SF&#x27;, &#x27;PF&#x27;, &#x27;PG&#x27;, &#x27;SG&#x27;,\n",
              "       &#x27;C&#x27;, &#x27;SG&#x27;, &#x27;C&#x27;, &#x27;SF&#x27;, &#x27;PF-C&#x27;, &#x27;PF&#x27;, &#x27;PF&#x27;, &#x27;SF&#x27;, &#x27;SF&#x27;, &#x27;PF&#x27;, &#x27;PF&#x27;,\n",
              "       &#x27;PG&#x27;, &#x27;SG&#x27;, &#x27;PG&#x27;, &#x27;SF&#x27;, &#x27;PF&#x27;, &#x27;SF&#x27;], dtype=object)</pre></div></li><li class='xr-var-item'><div class='xr-var-name'><span>height_no_shoes</span></div><div class='xr-var-dims'>(names)</div><div class='xr-var-dtype'>float64</div><div class='xr-var-preview xr-preview'>76.25 80.75 79.75 ... 77.75 78.25</div><input id='attrs-ac3ca77a-d72e-49f2-863f-ccabbc845544' class='xr-var-attrs-in' type='checkbox' disabled><label for='attrs-ac3ca77a-d72e-49f2-863f-ccabbc845544' title='Show/Hide attributes'><svg class='icon xr-icon-file-text2'><use xlink:href='#icon-file-text2'></use></svg></label><input id='data-be8047b1-95b9-48cf-92c8-9d17c1c5d777' class='xr-var-data-in' type='checkbox'><label for='data-be8047b1-95b9-48cf-92c8-9d17c1c5d777' title='Show/Hide data repr'><svg class='icon xr-icon-database'><use xlink:href='#icon-database'></use></svg></label><div class='xr-var-attrs'><dl class='xr-attrs'></dl></div><div class='xr-var-data'><pre>array([76.25, 80.75, 79.75, 84.75, 73.5 , 78.25, 73.  , 77.75, 79.  ,\n",
              "       85.25, 79.25, 82.  , 79.25, 77.25, 75.  , 74.75, 72.  , 70.75,\n",
              "       89.25, 80.75, 81.25, 76.  , 72.75, 73.5 , 69.75, 82.25, 81.  ,\n",
              "       76.5 , 79.25, 74.5 , 76.  , 76.25, 76.75, 79.  , 80.75, 78.75,\n",
              "       76.5 , 79.  , 74.5 , 76.5 , 76.75, 76.75, 77.  , 80.25, 76.5 ,\n",
              "       75.25, 77.75, 79.25, 76.25, 78.  , 80.  , 71.5 , 75.5 , 81.75,\n",
              "       76.  , 82.75, 78.5 , 80.75, 79.25, 81.5 , 76.  , 76.5 , 80.5 ,\n",
              "       78.5 , 69.5 , 75.  , 75.5 , 78.25, 77.75, 78.25])</pre></div></li><li class='xr-var-item'><div class='xr-var-name'><span>height_with_shoes</span></div><div class='xr-var-dims'>(names)</div><div class='xr-var-dtype'>float64</div><div class='xr-var-preview xr-preview'>77.5 82.0 81.0 ... 79.75 79.5 79.5</div><input id='attrs-fed924c7-0feb-4c7c-8b67-aa2057ce823d' class='xr-var-attrs-in' type='checkbox' disabled><label for='attrs-fed924c7-0feb-4c7c-8b67-aa2057ce823d' title='Show/Hide attributes'><svg class='icon xr-icon-file-text2'><use xlink:href='#icon-file-text2'></use></svg></label><input id='data-7d3f08cb-439b-452e-b075-e88dc58cd42d' class='xr-var-data-in' type='checkbox'><label for='data-7d3f08cb-439b-452e-b075-e88dc58cd42d' title='Show/Hide data repr'><svg class='icon xr-icon-database'><use xlink:href='#icon-database'></use></svg></label><div class='xr-var-attrs'><dl class='xr-attrs'></dl></div><div class='xr-var-data'><pre>array([77.5 , 82.  , 81.  , 86.5 , 74.75, 79.5 , 74.25, 79.25, 80.  ,\n",
              "       86.5 , 80.25, 83.75, 80.75, 78.75, 76.5 , 76.25, 74.  , 72.25,\n",
              "       91.  , 82.25, 82.5 , 77.25, 74.25, 75.  , 71.  , 83.5 , 82.25,\n",
              "       78.  , 81.  , 76.  , 77.  , 77.5 , 78.  , 80.5 , 82.25, 80.  ,\n",
              "       78.  , 80.5 , 76.25, 78.  , 78.5 , 77.5 , 78.25, 81.75, 77.5 ,\n",
              "       76.25, 79.5 , 81.5 , 77.75, 79.25, 81.25, 72.5 , 77.5 , 83.  ,\n",
              "       77.5 , 84.25, 80.  , 81.5 , 80.5 , 83.  , 77.25, 77.5 , 81.5 ,\n",
              "       80.  , 70.75, 76.25, 76.75, 79.75, 79.5 , 79.5 ])</pre></div></li><li class='xr-var-item'><div class='xr-var-name'><span>weight</span></div><div class='xr-var-dims'>(names)</div><div class='xr-var-dtype'>float64</div><div class='xr-var-preview xr-preview'>203.8 239.0 208.4 ... 240.2 195.8</div><input id='attrs-93e2151f-b014-4406-b72d-f8220296cc74' class='xr-var-attrs-in' type='checkbox' disabled><label for='attrs-93e2151f-b014-4406-b72d-f8220296cc74' title='Show/Hide attributes'><svg class='icon xr-icon-file-text2'><use xlink:href='#icon-file-text2'></use></svg></label><input id='data-56e63575-ddc2-4d8d-8e47-fba2f7c9a829' class='xr-var-data-in' type='checkbox'><label for='data-56e63575-ddc2-4d8d-8e47-fba2f7c9a829' title='Show/Hide data repr'><svg class='icon xr-icon-database'><use xlink:href='#icon-database'></use></svg></label><div class='xr-var-attrs'><dl class='xr-attrs'></dl></div><div class='xr-var-data'><pre>array([203.8, 239. , 208.4, 208. , 179. , 200. , 181.2, 220.8, 203.2,\n",
              "       237.2, 207.2, 216.6, 245.4, 194.2, 192.4, 222.2, 178.6, 199.4,\n",
              "       288.8, 237. , 237.6, 209.6, 167.8, 180.4, 169.2, 218.6, 232.8,\n",
              "       192.4, 212.6, 235.4, 215.6, 194.4, 216.4, 205.2, 256.2, 195.2,\n",
              "         nan, 233. , 185.2, 224.2, 204.6, 192.2, 194.8, 191.6, 206.4,\n",
              "       202.4, 220. , 209.6, 205.6, 254.4, 250.8, 180. , 190.8, 210.4,\n",
              "       212.6, 225.8, 207.8, 255.8, 214. , 227.2, 240.6, 196.8, 227.2,\n",
              "       230.4, 172.4, 206.6, 191.4, 208.8, 240.2, 195.8])</pre></div></li><li class='xr-var-item'><div class='xr-var-name'><span>wingspan</span></div><div class='xr-var-dims'>(names)</div><div class='xr-var-dtype'>float64</div><div class='xr-var-preview xr-preview'>81.5 87.5 84.0 ... 82.75 81.75 82.0</div><input id='attrs-098274ff-ca19-4daa-9418-70cf34d24746' class='xr-var-attrs-in' type='checkbox' disabled><label for='attrs-098274ff-ca19-4daa-9418-70cf34d24746' title='Show/Hide attributes'><svg class='icon xr-icon-file-text2'><use xlink:href='#icon-file-text2'></use></svg></label><input id='data-9fd383c8-3b56-4ab7-94aa-44b332e6d8fd' class='xr-var-data-in' type='checkbox'><label for='data-9fd383c8-3b56-4ab7-94aa-44b332e6d8fd' title='Show/Hide data repr'><svg class='icon xr-icon-database'><use xlink:href='#icon-database'></use></svg></label><div class='xr-var-attrs'><dl class='xr-attrs'></dl></div><div class='xr-var-data'><pre>array([81.5 , 87.5 , 84.  , 91.  , 75.25, 82.  , 79.  , 81.25, 84.  ,\n",
              "       88.75, 80.25, 86.5 , 84.5 , 81.5 , 80.75, 80.5 , 75.25, 78.  ,\n",
              "       98.25, 87.25, 86.25, 79.75, 76.5 , 77.5 , 77.5 , 87.5 , 85.75,\n",
              "       75.25, 84.75, 85.25, 83.25, 76.  , 81.25, 82.  , 87.  , 84.25,\n",
              "       83.  , 86.25, 80.5 , 85.25, 79.75, 82.25, 81.5 , 84.25, 78.  ,\n",
              "       79.25, 82.5 , 85.75, 82.75, 83.75, 84.5 , 75.5 , 78.75, 84.  ,\n",
              "       81.  , 88.25, 84.5 , 87.25, 85.  , 82.5 , 81.75, 84.25, 85.25,\n",
              "       86.25, 74.25, 81.  , 77.  , 82.75, 81.75, 82.  ])</pre></div></li><li class='xr-var-item'><div class='xr-var-name'><span>standing_reach</span></div><div class='xr-var-dims'>(names)</div><div class='xr-var-dtype'>float64</div><div class='xr-var-preview xr-preview'>102.0 109.5 107.0 ... 104.5 104.5</div><input id='attrs-16ac3f62-0990-433a-a580-76d11d6b6fea' class='xr-var-attrs-in' type='checkbox' disabled><label for='attrs-16ac3f62-0990-433a-a580-76d11d6b6fea' title='Show/Hide attributes'><svg class='icon xr-icon-file-text2'><use xlink:href='#icon-file-text2'></use></svg></label><input id='data-520a196d-76be-4a53-83a5-781f006d0c18' class='xr-var-data-in' type='checkbox'><label for='data-520a196d-76be-4a53-83a5-781f006d0c18' title='Show/Hide data repr'><svg class='icon xr-icon-database'><use xlink:href='#icon-database'></use></svg></label><div class='xr-var-attrs'><dl class='xr-attrs'></dl></div><div class='xr-var-data'><pre>array([102. , 109.5, 107. , 115.5,  95. , 103. ,  98. , 102. , 104. ,\n",
              "       113. , 102. , 110. , 106.5, 100.5, 101. ,  99.5,  95.5,  94.5,\n",
              "       122.5, 110. , 110. , 100.5,  95.5,  97. ,  94. , 110.5, 107. ,\n",
              "       100.5, 105.5, 103. , 104. ,  98. , 104. , 103. , 109.5, 104.5,\n",
              "       103. , 107.5,  98.5, 104.5, 101. , 102.5, 103. , 105.5, 101. ,\n",
              "        98. , 103. , 106.5, 100.5, 103.5, 106. ,  96.5,  99.5, 109.5,\n",
              "       103. , 111.5, 105.5, 109. , 106. , 107. , 102.5, 103.5, 106. ,\n",
              "       106.5,  93.5, 100. ,  97.5, 103. , 104.5, 104.5])</pre></div></li><li class='xr-var-item'><div class='xr-var-name'><span>body_fat_prcnt</span></div><div class='xr-var-dims'>(names)</div><div class='xr-var-dtype'>float64</div><div class='xr-var-preview xr-preview'>5.9 8.5 3.6 7.1 ... 4.3 4.9 5.4 4.6</div><input id='attrs-49cb31ae-fc01-4507-a8ca-c7fd6dfe17d3' class='xr-var-attrs-in' type='checkbox' disabled><label for='attrs-49cb31ae-fc01-4507-a8ca-c7fd6dfe17d3' title='Show/Hide attributes'><svg class='icon xr-icon-file-text2'><use xlink:href='#icon-file-text2'></use></svg></label><input id='data-6cde7795-4228-44bb-96de-698fa6174526' class='xr-var-data-in' type='checkbox'><label for='data-6cde7795-4228-44bb-96de-698fa6174526' title='Show/Hide data repr'><svg class='icon xr-icon-database'><use xlink:href='#icon-database'></use></svg></label><div class='xr-var-attrs'><dl class='xr-attrs'></dl></div><div class='xr-var-data'><pre>array([ 5.9,  8.5,  3.6,  7.1,  5. ,  6.5,  4.9,  6. ,  2.9,  7.8,  4.9,\n",
              "        4.5,  6.1,  5. ,  4.1,  5. ,  5.9,  5.5,  6.8,  5.4,  5.9,  8.4,\n",
              "        5.7,  5.1,  3.9,  5. ,  6.1,  7.1,  6.7,  8.4,  3.9,  6.5,  5.6,\n",
              "        5.8,  5.1,  4.8,  nan,  8.9,  4. ,  5.9,  4. ,  5. ,  3.8,  5.7,\n",
              "        7.5,  6.1,  7.8,  4.6,  4.9,  6.3,  6.7,  9.8,  7.5,  8.5,  5.1,\n",
              "        6.3,  4.7, 14. ,  3.9,  5.6,  6.8,  4.7,  6.2,  8.6,  6.6,  6.1,\n",
              "        4.3,  4.9,  5.4,  4.6])</pre></div></li><li class='xr-var-item'><div class='xr-var-name'><span>hand_length</span></div><div class='xr-var-dims'>(names)</div><div class='xr-var-dtype'>float64</div><div class='xr-var-preview xr-preview'>8.5 9.25 9.0 9.25 ... 8.5 9.0 8.25</div><input id='attrs-83e45795-bf30-4db4-bae0-e1626bcb58e6' class='xr-var-attrs-in' type='checkbox' disabled><label for='attrs-83e45795-bf30-4db4-bae0-e1626bcb58e6' title='Show/Hide attributes'><svg class='icon xr-icon-file-text2'><use xlink:href='#icon-file-text2'></use></svg></label><input id='data-d42709b6-9af9-401d-821e-266a92f937dc' class='xr-var-data-in' type='checkbox'><label for='data-d42709b6-9af9-401d-821e-266a92f937dc' title='Show/Hide data repr'><svg class='icon xr-icon-database'><use xlink:href='#icon-database'></use></svg></label><div class='xr-var-attrs'><dl class='xr-attrs'></dl></div><div class='xr-var-data'><pre>array([ 8.5 ,  9.25,  9.  ,  9.25,  7.5 ,  8.5 ,  8.25,  8.75,  9.  ,\n",
              "        9.5 ,  8.25,  9.25,  9.5 ,  8.25,  9.25,  8.5 ,  8.25,  8.75,\n",
              "       10.5 ,  9.25,  9.25,  8.25,  8.  ,  8.  ,  8.25,  9.25,  9.5 ,\n",
              "        8.  ,  8.75,  9.5 ,  9.5 ,  8.25,  8.  ,  8.  ,  9.25,  8.  ,\n",
              "        9.  ,  9.75,  8.75,  8.75,  9.5 ,  8.25,  8.5 ,  9.  ,  8.5 ,\n",
              "        8.25,  8.5 ,  9.25,  9.  ,  9.  ,  9.  ,  7.75,  8.25,  8.75,\n",
              "        8.75,  9.5 ,  9.  ,  9.5 ,  9.  ,  8.5 ,  8.75,  8.75,  8.75,\n",
              "        9.  ,  8.  ,  8.5 ,  7.75,  8.5 ,  9.  ,  8.25])</pre></div></li><li class='xr-var-item'><div class='xr-var-name'><span>hand_width</span></div><div class='xr-var-dims'>(names)</div><div class='xr-var-dtype'>float64</div><div class='xr-var-preview xr-preview'>8.75 9.5 9.75 9.5 ... 9.5 10.5 9.5</div><input id='attrs-a1dfed7d-1d8e-46d5-ac0a-2824d3282feb' class='xr-var-attrs-in' type='checkbox' disabled><label for='attrs-a1dfed7d-1d8e-46d5-ac0a-2824d3282feb' title='Show/Hide attributes'><svg class='icon xr-icon-file-text2'><use xlink:href='#icon-file-text2'></use></svg></label><input id='data-37797b7e-4ae8-4657-9f6a-791bb527c444' class='xr-var-data-in' type='checkbox'><label for='data-37797b7e-4ae8-4657-9f6a-791bb527c444' title='Show/Hide data repr'><svg class='icon xr-icon-database'><use xlink:href='#icon-database'></use></svg></label><div class='xr-var-attrs'><dl class='xr-attrs'></dl></div><div class='xr-var-data'><pre>array([ 8.75,  9.5 ,  9.75,  9.5 ,  9.25,  9.75,  9.  ,  9.5 ,  9.5 ,\n",
              "       10.25,  9.5 ,  9.5 , 10.75,  8.5 , 10.75,  9.  ,  9.5 ,  9.  ,\n",
              "       10.5 , 10.  ,  9.25, 10.  ,  8.75,  8.25,  9.5 , 10.5 , 10.25,\n",
              "        8.75,  9.75,  9.75, 10.25,  9.5 ,  9.25,  8.5 , 10.75,  8.5 ,\n",
              "        9.  ,  9.75,  8.5 , 10.  ,  9.25,  9.  ,  8.75, 10.  ,  9.5 ,\n",
              "        8.5 ,  9.25,  9.25, 10.  ,  9.5 , 10.  ,  8.  ,  8.5 ,  9.5 ,\n",
              "        8.75, 11.  ,  9.  ,  9.25, 10.5 ,  9.  ,  9.  ,  9.25,  8.5 ,\n",
              "       10.25,  9.75,  9.  ,  9.  ,  9.5 , 10.5 ,  9.5 ])</pre></div></li></ul></div></li><li class='xr-section-item'><input id='section-36fea10f-99e5-4dca-bbc8-f5d3ba5203f1' class='xr-section-summary-in' type='checkbox'  checked><label for='section-36fea10f-99e5-4dca-bbc8-f5d3ba5203f1' class='xr-section-summary' >Attributes: <span>(4)</span></label><div class='xr-section-inline-details'></div><div class='xr-section-details'><dl class='xr-attrs'><dt><span>length-units :</span></dt><dd>inches</dd><dt><span>weight-units :</span></dt><dd>pounds</dd><dt><span>readme :</span></dt><dd>\n",
              "Describes various measurements of athletes who participated in the 2019 NBA draft.\n",
              "</dd><dt><span>url :</span></dt><dd>https://www.nbadraft.net/2019-nba-draft-combine-measurements/</dd></dl></div></li></ul></div></div>"
            ]
          },
          "metadata": {},
          "execution_count": 15
        }
      ]
    },
    {
      "cell_type": "markdown",
      "source": [
        "# 3) 데이터의 각 특성에 개별적으로 접근하기"
      ],
      "metadata": {
        "id": "jXaOubGCInpI"
      }
    },
    {
      "cell_type": "code",
      "source": [
        "type(draft_data.height_no_shoes)"
      ],
      "metadata": {
        "colab": {
          "base_uri": "https://localhost:8080/"
        },
        "id": "DnQQ_4yKJEdr",
        "outputId": "41e29f4a-ef23-4fb5-9a31-8559fd0be929"
      },
      "execution_count": null,
      "outputs": [
        {
          "output_type": "execute_result",
          "data": {
            "text/plain": [
              "xarray.core.dataarray.DataArray"
            ]
          },
          "metadata": {},
          "execution_count": 7
        }
      ]
    },
    {
      "cell_type": "code",
      "source": [
        "draft_data.height_no_shoes.data"
      ],
      "metadata": {
        "colab": {
          "base_uri": "https://localhost:8080/"
        },
        "id": "JPWq_curJJXs",
        "outputId": "38c5c14e-5f8c-454a-bdc8-1f58e9f8c52f"
      },
      "execution_count": null,
      "outputs": [
        {
          "output_type": "execute_result",
          "data": {
            "text/plain": [
              "array([76.25, 80.75, 79.75, 84.75, 73.5 , 78.25, 73.  , 77.75, 79.  ,\n",
              "       85.25, 79.25, 82.  , 79.25, 77.25, 75.  , 74.75, 72.  , 70.75,\n",
              "       89.25, 80.75, 81.25, 76.  , 72.75, 73.5 , 69.75, 82.25, 81.  ,\n",
              "       76.5 , 79.25, 74.5 , 76.  , 76.25, 76.75, 79.  , 80.75, 78.75,\n",
              "       76.5 , 79.  , 74.5 , 76.5 , 76.75, 76.75, 77.  , 80.25, 76.5 ,\n",
              "       75.25, 77.75, 79.25, 76.25, 78.  , 80.  , 71.5 , 75.5 , 81.75,\n",
              "       76.  , 82.75, 78.5 , 80.75, 79.25, 81.5 , 76.  , 76.5 , 80.5 ,\n",
              "       78.5 , 69.5 , 75.  , 75.5 , 78.25, 77.75, 78.25])"
            ]
          },
          "metadata": {},
          "execution_count": 6
        }
      ]
    },
    {
      "cell_type": "code",
      "source": [
        "type(draft_data.height_no_shoes.data)"
      ],
      "metadata": {
        "colab": {
          "base_uri": "https://localhost:8080/"
        },
        "id": "PqctCjGFJXPP",
        "outputId": "e32a1cd8-e163-4118-b026-33d343e7d9e5"
      },
      "execution_count": null,
      "outputs": [
        {
          "output_type": "execute_result",
          "data": {
            "text/plain": [
              "numpy.ndarray"
            ]
          },
          "metadata": {},
          "execution_count": 8
        }
      ]
    },
    {
      "cell_type": "code",
      "source": [
        "import numpy as np\n",
        "height_with_shoes = draft_data.height_with_shoes.data\n",
        "mean = np.mean(height_with_shoes)\n",
        "std = np.std(height_with_shoes)\n",
        "\n",
        "print(mean, std)"
      ],
      "metadata": {
        "colab": {
          "base_uri": "https://localhost:8080/"
        },
        "id": "j7ACguPRJfMT",
        "outputId": "e8795188-981b-454a-c124-aead10bd3327"
      },
      "execution_count": null,
      "outputs": [
        {
          "output_type": "stream",
          "name": "stdout",
          "text": [
            "79.04642857142858 3.5356078627562297\n"
          ]
        }
      ]
    },
    {
      "cell_type": "code",
      "source": [
        "import matplotlib.pyplot as plt\n",
        "fig, ax = plt.subplots()\n",
        "plt.scatter(x=draft_data.hand_length, y=draft_data.hand_width)\n",
        "plt.xlabel('hand_length')\n",
        "plt.ylabel('hand_width')\n",
        "ax.set_title('Hands on NBA Draftees (2019)')\n",
        "ax.grid()"
      ],
      "metadata": {
        "colab": {
          "base_uri": "https://localhost:8080/",
          "height": 296
        },
        "id": "NINWNq4YLWlu",
        "outputId": "395468ba-9e16-4b63-cf55-2ecd5848f59a"
      },
      "execution_count": null,
      "outputs": [
        {
          "output_type": "display_data",
          "data": {
            "text/plain": [
              "<Figure size 432x288 with 1 Axes>"
            ],
            "image/png": "[encoded data removed]"
          },
          "metadata": {
            "needs_background": "light"
          }
        }
      ]
    },
    {
      "cell_type": "code",
      "source": [
        "fig, axes = plt.subplots(nrows=2)\n",
        "draft_data.plot.scatter(x='position', y='height_no_shoes', ax = axes[0])\n",
        "draft_data.plot.scatter(x='position', y='weight', ax = axes[1])\n",
        "axes[0].set_title(\"Metrics for NBA Draftees (2019)\")\n",
        "axes[0].grid()\n",
        "axes[1].grid()\n",
        "plt.show()"
      ],
      "metadata": {
        "colab": {
          "base_uri": "https://localhost:8080/",
          "height": 295
        },
        "id": "e89TPmyVPGfm",
        "outputId": "7ee62aff-0615-4aa9-c78b-8b7229b5dc12"
      },
      "execution_count": null,
      "outputs": [
        {
          "output_type": "display_data",
          "data": {
            "text/plain": [
              "<Figure size 432x288 with 2 Axes>"
            ],
            "image/png": "[encoded data removed]"
          },
          "metadata": {
            "needs_background": "light"
          }
        }
      ]
    },
    {
      "cell_type": "code",
      "source": [
        "import matplotlib.pyplot as plt\n",
        "fig, ax = plt.subplots()\n",
        "draft_data.plot.scatter(x='hand_length', y='hand_width')\n",
        "ax.set_title('Hands of NBA Draftees (2019)')\n",
        "plt.grid()\n",
        "plt.show()"
      ],
      "metadata": {
        "colab": {
          "base_uri": "https://localhost:8080/",
          "height": 296
        },
        "id": "cE96VQ-WQpHR",
        "outputId": "b881b82a-5e8a-499f-c312-dfa1c6d524c7"
      },
      "execution_count": null,
      "outputs": [
        {
          "output_type": "display_data",
          "data": {
            "text/plain": [
              "<Figure size 432x288 with 1 Axes>"
            ],
            "image/png": "[encoded data removed]"
          },
          "metadata": {
            "needs_background": "light"
          }
        }
      ]
    },
    {
      "cell_type": "code",
      "source": [
        "fig, axes = plt.subplots(nrows=2)\n",
        "draft_data.plot.scatter(x='position', y='height_no_shoes', ax=axes[0])\n",
        "draft_data.plot.scatter(x='position', y='weight', ax=axes[1])\n",
        "axes[0].set_title(\"Metrics for NBA Draftees (2019)\")\n",
        "[ax.grid() for ax in axes];"
      ],
      "metadata": {
        "colab": {
          "base_uri": "https://localhost:8080/",
          "height": 295
        },
        "id": "x1BH7yC0Sex5",
        "outputId": "02f891b5-6be3-4fc4-b4cc-63600ed86e57"
      },
      "execution_count": null,
      "outputs": [
        {
          "output_type": "display_data",
          "data": {
            "text/plain": [
              "<Figure size 432x288 with 2 Axes>"
            ],
            "image/png": "[encoded data removed]"
          },
          "metadata": {
            "needs_background": "light"
          }
        }
      ]
    },
    {
      "cell_type": "code",
      "source": [
        "import numpy as np\n",
        "\n",
        "fig, ax = plt.subplots()\n",
        "x = np.linspace(-10, 10, 1000)\n",
        "ax.plot(x, x**2, label=\"$x^2$\") # 연속적인 곡선의 형태\n",
        "ax.legend();\n",
        "ax.set_title(\"$f(x)=x^2$\")\n",
        "ax.grid()"
      ],
      "metadata": {
        "colab": {
          "base_uri": "https://localhost:8080/",
          "height": 285
        },
        "id": "6uXISBANTrXo",
        "outputId": "af3757de-c42c-40ba-ba34-8693256d7b96"
      },
      "execution_count": null,
      "outputs": [
        {
          "output_type": "display_data",
          "data": {
            "text/plain": [
              "<Figure size 432x288 with 1 Axes>"
            ],
            "image/png": "[encoded data removed]"
          },
          "metadata": {
            "needs_background": "light"
          }
        }
      ]
    },
    {
      "cell_type": "code",
      "source": [
        "fig, ax = plt.subplots()\n",
        "draft_data.plot.scatter(x='wingspan', y='height_no_shoes')\n",
        "ax.set_title(\"hns_wingspan\")\n",
        "ax.grid()"
      ],
      "metadata": {
        "colab": {
          "base_uri": "https://localhost:8080/",
          "height": 295
        },
        "id": "7CIIfBaMUkrW",
        "outputId": "a711a399-34b6-43b3-8f6e-32e43f310b04"
      },
      "execution_count": null,
      "outputs": [
        {
          "output_type": "display_data",
          "data": {
            "text/plain": [
              "<Figure size 432x288 with 1 Axes>"
            ],
            "image/png": "[encoded data removed]"
          },
          "metadata": {
            "needs_background": "light"
          }
        }
      ]
    },
    {
      "cell_type": "code",
      "source": [
        "import numpy as np\n",
        "\n",
        "def ordinary_least_squares(x, y):\n",
        "  N = x.size\n",
        "  m = (np.matmul(x, y) - np.sum(y) * np.sum(x) / N) / (np.matmul(x, x) - np.sum(x) * np.sum(x) / N)\n",
        "  b = np.mean(y) - m * np.mean(x)\n",
        "\n",
        "  return m, b"
      ],
      "metadata": {
        "id": "WOdUQPc6Voao"
      },
      "execution_count": null,
      "outputs": []
    },
    {
      "cell_type": "code",
      "source": [
        "fig, ax = plt.subplots()\n",
        "draft_data.plot.scatter(x='height_no_shoes', y='wingspan')\n",
        "ax.set_title('hns_wingspan')\n",
        "ax.grid()\n",
        "\n",
        "height = draft_data.height_no_shoes.data\n",
        "wingspan = draft_data.wingspan.data\n",
        "\n",
        "m, b = ordinary_least_squares(height, wingspan)\n",
        "x = np.linspace(min(height), max(height), 1000)\n",
        "ax.plot(x, m*x + b, label=\"$m^{*}x+b^{*}$\")\n",
        "ax.legend()\n",
        "plt.show()"
      ],
      "metadata": {
        "colab": {
          "base_uri": "https://localhost:8080/",
          "height": 296
        },
        "id": "JbCvmZ4YY3Ma",
        "outputId": "4324c773-9e28-4084-a944-792b745bb717"
      },
      "execution_count": null,
      "outputs": [
        {
          "output_type": "display_data",
          "data": {
            "text/plain": [
              "<Figure size 432x288 with 1 Axes>"
            ],
            "image/png": "[encoded data removed]"
          },
          "metadata": {
            "needs_background": "light"
          }
        }
      ]
    },
    {
      "cell_type": "code",
      "source": [
        ""
      ],
      "metadata": {
        "id": "JypsgoYYagzk"
      },
      "execution_count": null,
      "outputs": []
    }
  ]
}