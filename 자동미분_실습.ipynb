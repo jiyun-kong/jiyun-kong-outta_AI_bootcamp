{
  "nbformat": 4,
  "nbformat_minor": 0,
  "metadata": {
    "colab": {
      "name": "자동미분_실습.ipynb",
      "provenance": [],
      "authorship_tag": "ABX9TyOszD1ae5jWyRcaxYuLP8Yo",
      "include_colab_link": true
    },
    "kernelspec": {
      "name": "python3",
      "display_name": "Python 3"
    },
    "language_info": {
      "name": "python"
    }
  },
  "cells": [
    {
      "cell_type": "markdown",
      "metadata": {
        "id": "view-in-github",
        "colab_type": "text"
      },
      "source": [
        "<a href=\"https://colab.research.google.com/github/jiyun-kong/outta_AI_bootcamp/blob/main/%EC%9E%90%EB%8F%99%EB%AF%B8%EB%B6%84_%EC%8B%A4%EC%8A%B5.ipynb\" target=\"_parent\"><img src=\"https://colab.research.google.com/assets/colab-badge.svg\" alt=\"Open In Colab\"/></a>"
      ]
    },
    {
      "cell_type": "code",
      "source": [
        "!pip install mygrad"
      ],
      "metadata": {
        "colab": {
          "base_uri": "https://localhost:8080/"
        },
        "id": "70Re3SoDuT1Y",
        "outputId": "43546b06-8b4e-46f6-bb0b-baab4d17577d"
      },
      "execution_count": null,
      "outputs": [
        {
          "output_type": "stream",
          "name": "stdout",
          "text": [
            "Looking in indexes: https://pypi.org/simple, https://us-python.pkg.dev/colab-wheels/public/simple/\n",
            "Collecting mygrad\n",
            "  Downloading mygrad-2.1.0-py3-none-any.whl (170 kB)\n",
            "\u001b[K     |████████████████████████████████| 170 kB 26.8 MB/s \n",
            "\u001b[?25hRequirement already satisfied: numpy>=1.19 in /usr/local/lib/python3.7/dist-packages (from mygrad) (1.21.6)\n",
            "Installing collected packages: mygrad\n",
            "Successfully installed mygrad-2.1.0\n"
          ]
        }
      ]
    },
    {
      "cell_type": "code",
      "execution_count": null,
      "metadata": {
        "id": "35TEc8uwuLuu"
      },
      "outputs": [],
      "source": [
        "import numpy as np\n",
        "import mygrad as mg"
      ]
    },
    {
      "cell_type": "code",
      "source": [
        "mg.tensor(2.3)"
      ],
      "metadata": {
        "colab": {
          "base_uri": "https://localhost:8080/"
        },
        "id": "e5ikFOGouZ0R",
        "outputId": "09156a8f-6902-4024-abd3-35261a77fe03"
      },
      "execution_count": null,
      "outputs": [
        {
          "output_type": "execute_result",
          "data": {
            "text/plain": [
              "Tensor(2.3)"
            ]
          },
          "metadata": {},
          "execution_count": 4
        }
      ]
    },
    {
      "cell_type": "code",
      "source": [
        "mg.Tensor([1.0, 2.0, 3.0], dtype=np.float32)"
      ],
      "metadata": {
        "colab": {
          "base_uri": "https://localhost:8080/"
        },
        "id": "WLS6DKjiu2mA",
        "outputId": "9bb494c7-3b1c-4ed1-9752-4d23b76857e0"
      },
      "execution_count": null,
      "outputs": [
        {
          "output_type": "execute_result",
          "data": {
            "text/plain": [
              "Tensor([1., 2., 3.], dtype=float32)"
            ]
          },
          "metadata": {},
          "execution_count": 5
        }
      ]
    },
    {
      "cell_type": "code",
      "source": [
        "arr = np.ones((3, 3))\n",
        "mg.Tensor(arr)"
      ],
      "metadata": {
        "colab": {
          "base_uri": "https://localhost:8080/"
        },
        "id": "bPfN765lu89n",
        "outputId": "3d56d7e6-142f-4f13-bd53-be940873c6f7"
      },
      "execution_count": null,
      "outputs": [
        {
          "output_type": "execute_result",
          "data": {
            "text/plain": [
              "Tensor([[1., 1., 1.],\n",
              "        [1., 1., 1.],\n",
              "        [1., 1., 1.]])"
            ]
          },
          "metadata": {},
          "execution_count": 8
        }
      ]
    },
    {
      "cell_type": "code",
      "source": [
        "mg.zeros((2,2,4))"
      ],
      "metadata": {
        "colab": {
          "base_uri": "https://localhost:8080/"
        },
        "id": "yiUMVDvMu_iv",
        "outputId": "a3e6c2fe-fc1d-44af-8d60-ff0ee93edd3c"
      },
      "execution_count": null,
      "outputs": [
        {
          "output_type": "execute_result",
          "data": {
            "text/plain": [
              "Tensor([[[0., 0., 0., 0.],\n",
              "         [0., 0., 0., 0.]],\n",
              " \n",
              "        [[0., 0., 0., 0.],\n",
              "         [0., 0., 0., 0.]]], dtype=float32)"
            ]
          },
          "metadata": {},
          "execution_count": 10
        }
      ]
    },
    {
      "cell_type": "code",
      "source": [
        "mg.arange(-5, 15, 2)"
      ],
      "metadata": {
        "colab": {
          "base_uri": "https://localhost:8080/"
        },
        "id": "Dem07mzdvKq2",
        "outputId": "d2ff5168-1479-4550-b229-d06e41b718bd"
      },
      "execution_count": null,
      "outputs": [
        {
          "output_type": "execute_result",
          "data": {
            "text/plain": [
              "Tensor([-5, -3, -1,  1,  3,  5,  7,  9, 11, 13])"
            ]
          },
          "metadata": {},
          "execution_count": 11
        }
      ]
    },
    {
      "cell_type": "code",
      "source": [
        "mg.arange(9.)"
      ],
      "metadata": {
        "colab": {
          "base_uri": "https://localhost:8080/"
        },
        "id": "-A52IdEBvSpL",
        "outputId": "9e474092-67aa-454d-f384-94feec8e8038"
      },
      "execution_count": null,
      "outputs": [
        {
          "output_type": "execute_result",
          "data": {
            "text/plain": [
              "Tensor([0., 1., 2., 3., 4., 5., 6., 7., 8.])"
            ]
          },
          "metadata": {},
          "execution_count": 12
        }
      ]
    },
    {
      "cell_type": "code",
      "source": [
        "mg.random.rand(3, 4)"
      ],
      "metadata": {
        "colab": {
          "base_uri": "https://localhost:8080/"
        },
        "id": "Uqep129HvUPk",
        "outputId": "c93d680d-bad0-4373-ee91-67542f16854e"
      },
      "execution_count": null,
      "outputs": [
        {
          "output_type": "execute_result",
          "data": {
            "text/plain": [
              "Tensor([[0.9758436 , 0.84346483, 0.61357375, 0.59171385],\n",
              "        [0.84428583, 0.91121351, 0.00567431, 0.48235594],\n",
              "        [0.69014008, 0.40691675, 0.08668758, 0.81277352]])"
            ]
          },
          "metadata": {},
          "execution_count": 13
        }
      ]
    },
    {
      "cell_type": "code",
      "source": [
        "mg.linspace(0, mg.pi, 15)"
      ],
      "metadata": {
        "colab": {
          "base_uri": "https://localhost:8080/"
        },
        "id": "mQL1K1HzvWw7",
        "outputId": "fc4ca14f-1661-4b39-b25b-1578195a39d3"
      },
      "execution_count": null,
      "outputs": [
        {
          "output_type": "execute_result",
          "data": {
            "text/plain": [
              "Tensor([0.        , 0.22439948, 0.44879895, 0.67319843, 0.8975979 ,\n",
              "        1.12199738, 1.34639685, 1.57079633, 1.7951958 , 2.01959528,\n",
              "        2.24399475, 2.46839423, 2.6927937 , 2.91719318, 3.14159265])"
            ]
          },
          "metadata": {},
          "execution_count": 14
        }
      ]
    },
    {
      "cell_type": "code",
      "source": [
        "x = mg.arange(9.)\n",
        "x"
      ],
      "metadata": {
        "colab": {
          "base_uri": "https://localhost:8080/"
        },
        "id": "aMc3jgpUxQ2n",
        "outputId": "595cad07-727a-46e0-9566-16dcc42bdeb7"
      },
      "execution_count": null,
      "outputs": [
        {
          "output_type": "execute_result",
          "data": {
            "text/plain": [
              "Tensor([0., 1., 2., 3., 4., 5., 6., 7., 8.])"
            ]
          },
          "metadata": {},
          "execution_count": 15
        }
      ]
    },
    {
      "cell_type": "code",
      "source": [
        "x.reshape(3, 3)"
      ],
      "metadata": {
        "colab": {
          "base_uri": "https://localhost:8080/"
        },
        "id": "xaWv1MryyDup",
        "outputId": "53297bdb-446e-4743-dd4b-72b12bc3a20e"
      },
      "execution_count": null,
      "outputs": [
        {
          "output_type": "execute_result",
          "data": {
            "text/plain": [
              "Tensor([[0., 1., 2.],\n",
              "        [3., 4., 5.],\n",
              "        [6., 7., 8.]])"
            ]
          },
          "metadata": {},
          "execution_count": 16
        }
      ]
    },
    {
      "cell_type": "code",
      "source": [
        "xx = mg.tensor([[0,1,2], [3,4,5], [6, 7, 8], [9, 10, 11]])\n",
        "xx.transpose()"
      ],
      "metadata": {
        "colab": {
          "base_uri": "https://localhost:8080/"
        },
        "id": "0iwjzA8UyF7X",
        "outputId": "895104e6-fdfc-4ac4-934f-ef557af4467f"
      },
      "execution_count": null,
      "outputs": [
        {
          "output_type": "execute_result",
          "data": {
            "text/plain": [
              "Tensor([[ 0,  3,  6,  9],\n",
              "        [ 1,  4,  7, 10],\n",
              "        [ 2,  5,  8, 11]])"
            ]
          },
          "metadata": {},
          "execution_count": 20
        }
      ]
    },
    {
      "cell_type": "code",
      "source": [
        "xxx = mg.tensor([[1,2,3,4,5], [6,7,8,9,10]])\n",
        "xxx[0, 2:]"
      ],
      "metadata": {
        "colab": {
          "base_uri": "https://localhost:8080/"
        },
        "id": "C6X9XoqTyO_G",
        "outputId": "25686222-32ca-4374-eb15-ad60d79a3992"
      },
      "execution_count": null,
      "outputs": [
        {
          "output_type": "execute_result",
          "data": {
            "text/plain": [
              "Tensor([3, 4, 5])"
            ]
          },
          "metadata": {},
          "execution_count": 22
        }
      ]
    },
    {
      "cell_type": "code",
      "source": [
        "xxxx = mg.tensor([[1,2,3,4,5], [6,7,8,9,10]])\n",
        "xxxx[0, -3:]"
      ],
      "metadata": {
        "colab": {
          "base_uri": "https://localhost:8080/"
        },
        "id": "tzac9o2ozMGf",
        "outputId": "c6bfa2fe-d486-4446-8361-3e012d4f402d"
      },
      "execution_count": null,
      "outputs": [
        {
          "output_type": "execute_result",
          "data": {
            "text/plain": [
              "Tensor([3, 4, 5])"
            ]
          },
          "metadata": {},
          "execution_count": 23
        }
      ]
    },
    {
      "cell_type": "code",
      "source": [
        "x = mg.tensor([0.0, 0.25, 0.5, 0.75, 1.0])\n",
        "y = mg.tensor([[0.], [1.], [2.]])\n",
        "z = mg.tensor([[0, 1, 2, 3], [4, 5, 6, 7], [8, 9, 10, 11]])"
      ],
      "metadata": {
        "id": "evSXSDv_zX3F"
      },
      "execution_count": null,
      "outputs": []
    },
    {
      "cell_type": "code",
      "source": [
        "mg.sin(x)"
      ],
      "metadata": {
        "colab": {
          "base_uri": "https://localhost:8080/"
        },
        "id": "uab7jO6X1JA4",
        "outputId": "102b63d6-ded3-42ad-ec53-027e29a560d5"
      },
      "execution_count": null,
      "outputs": [
        {
          "output_type": "execute_result",
          "data": {
            "text/plain": [
              "Tensor([0.        , 0.24740396, 0.47942554, 0.68163876, 0.84147098])"
            ]
          },
          "metadata": {},
          "execution_count": 25
        }
      ]
    },
    {
      "cell_type": "code",
      "source": [
        "mg.sum(z)"
      ],
      "metadata": {
        "colab": {
          "base_uri": "https://localhost:8080/"
        },
        "id": "vaTBdZCy1LI7",
        "outputId": "9c4f072f-ae15-4491-f616-4188b5eced0e"
      },
      "execution_count": null,
      "outputs": [
        {
          "output_type": "execute_result",
          "data": {
            "text/plain": [
              "Tensor(66)"
            ]
          },
          "metadata": {},
          "execution_count": 26
        }
      ]
    },
    {
      "cell_type": "code",
      "source": [
        "mg.sum(z, axis=0)"
      ],
      "metadata": {
        "colab": {
          "base_uri": "https://localhost:8080/"
        },
        "id": "haxf7MdZ1NBL",
        "outputId": "95387df4-651a-47cd-cd08-caad03a90770"
      },
      "execution_count": null,
      "outputs": [
        {
          "output_type": "execute_result",
          "data": {
            "text/plain": [
              "Tensor([12, 15, 18, 21])"
            ]
          },
          "metadata": {},
          "execution_count": 27
        }
      ]
    },
    {
      "cell_type": "code",
      "source": [
        "mg.sum(z, axis=1)"
      ],
      "metadata": {
        "colab": {
          "base_uri": "https://localhost:8080/"
        },
        "id": "N46XDL811liy",
        "outputId": "028c92fd-5e26-4db5-d6b7-ccb92154c1ac"
      },
      "execution_count": null,
      "outputs": [
        {
          "output_type": "execute_result",
          "data": {
            "text/plain": [
              "Tensor([ 6, 22, 38])"
            ]
          },
          "metadata": {},
          "execution_count": 28
        }
      ]
    },
    {
      "cell_type": "code",
      "source": [
        "x = mg.tensor([0.0, 0.25, 0.5, 0.75, 1.0])\n",
        "y = mg.tensor([[0.], [1.], [2.]])\n",
        "z = mg.tensor([[0, 1, 2, 3], [4, 5, 6, 7], [8, 9, 10, 11]])"
      ],
      "metadata": {
        "id": "PdxYkeX-13UT"
      },
      "execution_count": null,
      "outputs": []
    },
    {
      "cell_type": "code",
      "source": [
        "x + y"
      ],
      "metadata": {
        "colab": {
          "base_uri": "https://localhost:8080/"
        },
        "id": "eVUS8yzk21_D",
        "outputId": "ae5fb047-02d9-48a5-ca5e-0ad592d7c5c7"
      },
      "execution_count": null,
      "outputs": [
        {
          "output_type": "execute_result",
          "data": {
            "text/plain": [
              "Tensor([[0.  , 0.25, 0.5 , 0.75, 1.  ],\n",
              "        [1.  , 1.25, 1.5 , 1.75, 2.  ],\n",
              "        [2.  , 2.25, 2.5 , 2.75, 3.  ]])"
            ]
          },
          "metadata": {},
          "execution_count": 29
        }
      ]
    },
    {
      "cell_type": "code",
      "source": [
        "x = mg.Tensor([[ 0.,  1.,  2.,  3.],\n",
        "...                [ 4.,  5.,  6.,  7.],\n",
        "...                [ 8.,  9., 10., 11.],\n",
        "...                [12., 13., 14., 15.]])"
      ],
      "metadata": {
        "id": "YMu7Z2Bh23aG"
      },
      "execution_count": null,
      "outputs": []
    },
    {
      "cell_type": "code",
      "source": [
        "mg.log(x[2, ::2])"
      ],
      "metadata": {
        "colab": {
          "base_uri": "https://localhost:8080/"
        },
        "id": "C1x2lBDd4LT_",
        "outputId": "30e6592b-c6d7-4521-90b9-67d44c2f9dff"
      },
      "execution_count": null,
      "outputs": [
        {
          "output_type": "execute_result",
          "data": {
            "text/plain": [
              "Tensor([2.48490665, 2.63905733])"
            ]
          },
          "metadata": {},
          "execution_count": 31
        }
      ]
    },
    {
      "cell_type": "code",
      "source": [
        "x[0:2:1, 0:2:1] + x[0:2:1, 2:4:1] + x[2:4:1, 0:2:1] + x[2:4:1, 2:4:1]"
      ],
      "metadata": {
        "colab": {
          "base_uri": "https://localhost:8080/"
        },
        "id": "yuumPT6R5f9J",
        "outputId": "b07d8dd0-5399-4dee-9cdb-c74ad82e3a63"
      },
      "execution_count": null,
      "outputs": [
        {
          "output_type": "execute_result",
          "data": {
            "text/plain": [
              "Tensor([[20., 24.],\n",
              "        [36., 40.]])"
            ]
          },
          "metadata": {},
          "execution_count": 41
        }
      ]
    },
    {
      "cell_type": "code",
      "source": [
        "x = mg.Tensor([[ 0.,  1.,  2.,  3.],\n",
        "...                [ 4.,  5.,  6.,  7.],\n",
        "...                [ 8.,  9., 10., 11.],\n",
        "...                [12., 13., 14., 15.]])"
      ],
      "metadata": {
        "id": "yUPYoF-i6UiF"
      },
      "execution_count": null,
      "outputs": []
    },
    {
      "cell_type": "code",
      "source": [
        "mg.mean(x, axis=0)"
      ],
      "metadata": {
        "colab": {
          "base_uri": "https://localhost:8080/"
        },
        "id": "imCeQxbM6sM3",
        "outputId": "870c210b-6de9-4ecb-9ca5-01b581e7369a"
      },
      "execution_count": null,
      "outputs": [
        {
          "output_type": "execute_result",
          "data": {
            "text/plain": [
              "Tensor([6., 7., 8., 9.])"
            ]
          },
          "metadata": {},
          "execution_count": 44
        }
      ]
    },
    {
      "cell_type": "code",
      "source": [
        "x /= mg.sqrt(mg.sum(x**2, axis=1, keepdims=True))\n",
        "x"
      ],
      "metadata": {
        "colab": {
          "base_uri": "https://localhost:8080/"
        },
        "id": "oOP8lE-v7LQu",
        "outputId": "e60985db-dda7-4f9d-c3fb-94351cbb9d83"
      },
      "execution_count": null,
      "outputs": [
        {
          "output_type": "execute_result",
          "data": {
            "text/plain": [
              "Tensor([[0.        , 0.26726124, 0.53452248, 0.80178373],\n",
              "        [0.35634832, 0.4454354 , 0.53452248, 0.62360956],\n",
              "        [0.4181667 , 0.47043754, 0.52270837, 0.57497921],\n",
              "        [0.44292808, 0.47983876, 0.51674943, 0.5536601 ]])"
            ]
          },
          "metadata": {},
          "execution_count": 55
        }
      ]
    },
    {
      "cell_type": "code",
      "source": [
        "mg.sum(x**2, axis=1)"
      ],
      "metadata": {
        "colab": {
          "base_uri": "https://localhost:8080/"
        },
        "id": "qeiKW-hB7V3y",
        "outputId": "0b32209a-8bf4-4dc8-b8ba-1d350f7d7d5e"
      },
      "execution_count": null,
      "outputs": [
        {
          "output_type": "execute_result",
          "data": {
            "text/plain": [
              "Tensor([1., 1., 1., 1.])"
            ]
          },
          "metadata": {},
          "execution_count": 57
        }
      ]
    },
    {
      "cell_type": "code",
      "source": [
        "x = mg.tensor([1.0, 2.0])\n",
        "y = mg.tensor([-3.0, -4.0])\n",
        "mg.matmul(x, y)"
      ],
      "metadata": {
        "colab": {
          "base_uri": "https://localhost:8080/"
        },
        "id": "_WbRp2ig-CRG",
        "outputId": "37a6f233-031b-4d1e-c7b1-cb0f87b364d4"
      },
      "execution_count": null,
      "outputs": [
        {
          "output_type": "execute_result",
          "data": {
            "text/plain": [
              "Tensor(-11.)"
            ]
          },
          "metadata": {},
          "execution_count": 58
        }
      ]
    },
    {
      "cell_type": "code",
      "source": [
        "a = mg.arange(25).reshape(5, 5)\n",
        "b = mg.arange(15).reshape(5, 3)\n",
        "c = -mg.arange(15).reshape(5, 3)"
      ],
      "metadata": {
        "id": "HTrt1bhBBT4Q"
      },
      "execution_count": null,
      "outputs": []
    },
    {
      "cell_type": "code",
      "source": [
        "mg.einsum('ii', a)"
      ],
      "metadata": {
        "colab": {
          "base_uri": "https://localhost:8080/"
        },
        "id": "BefQvDe4DBDK",
        "outputId": "2cc99460-2380-4f6b-abb7-589e9c7d2cc5"
      },
      "execution_count": null,
      "outputs": [
        {
          "output_type": "execute_result",
          "data": {
            "text/plain": [
              "Tensor(60)"
            ]
          },
          "metadata": {},
          "execution_count": 61
        }
      ]
    },
    {
      "cell_type": "code",
      "source": [
        "mg.einsum('ii->i', a)"
      ],
      "metadata": {
        "colab": {
          "base_uri": "https://localhost:8080/"
        },
        "id": "yCzn2-3pDHI-",
        "outputId": "45935086-590f-4ded-d688-7b46c8f49f6e"
      },
      "execution_count": null,
      "outputs": [
        {
          "output_type": "execute_result",
          "data": {
            "text/plain": [
              "Tensor([ 0,  6, 12, 18, 24])"
            ]
          },
          "metadata": {},
          "execution_count": 62
        }
      ]
    },
    {
      "cell_type": "code",
      "source": [
        "mg.einsum('ji', b)"
      ],
      "metadata": {
        "colab": {
          "base_uri": "https://localhost:8080/"
        },
        "id": "iB9QjUevDLPF",
        "outputId": "461ba8fe-a266-4961-a05a-8a92e50b1bdf"
      },
      "execution_count": null,
      "outputs": [
        {
          "output_type": "execute_result",
          "data": {
            "text/plain": [
              "Tensor([[ 0,  3,  6,  9, 12],\n",
              "        [ 1,  4,  7, 10, 13],\n",
              "        [ 2,  5,  8, 11, 14]])"
            ]
          },
          "metadata": {},
          "execution_count": 63
        }
      ]
    },
    {
      "cell_type": "code",
      "source": [
        "x = mg.tensor(2.0)\n",
        "y = mg.tensor(3.0)\n",
        "z = mg.tensor(4.0)\n",
        "f = x * y"
      ],
      "metadata": {
        "id": "326cC6P5W3wJ"
      },
      "execution_count": null,
      "outputs": []
    },
    {
      "cell_type": "code",
      "source": [
        "f.backward()"
      ],
      "metadata": {
        "id": "t0Y6AG3-XCvc"
      },
      "execution_count": null,
      "outputs": []
    },
    {
      "cell_type": "code",
      "source": [
        "f.backward()"
      ],
      "metadata": {
        "id": "EGV2K7muXJiO"
      },
      "execution_count": null,
      "outputs": []
    },
    {
      "cell_type": "code",
      "source": [
        "x.grad"
      ],
      "metadata": {
        "colab": {
          "base_uri": "https://localhost:8080/"
        },
        "id": "c-VOWmIzXMk_",
        "outputId": "3d3c7bf4-c4c8-46ab-ca23-bdb8b0dde248"
      },
      "execution_count": null,
      "outputs": [
        {
          "output_type": "execute_result",
          "data": {
            "text/plain": [
              "array(3.)"
            ]
          },
          "metadata": {},
          "execution_count": 69
        }
      ]
    },
    {
      "cell_type": "code",
      "source": [
        "y.grad"
      ],
      "metadata": {
        "colab": {
          "base_uri": "https://localhost:8080/"
        },
        "id": "aeY-YoQHXQ9A",
        "outputId": "316abc7f-fd4f-4298-b7bd-09a4229458ba"
      },
      "execution_count": null,
      "outputs": [
        {
          "output_type": "execute_result",
          "data": {
            "text/plain": [
              "array(2.)"
            ]
          },
          "metadata": {},
          "execution_count": 70
        }
      ]
    },
    {
      "cell_type": "code",
      "source": [
        "z.grad is None"
      ],
      "metadata": {
        "colab": {
          "base_uri": "https://localhost:8080/"
        },
        "id": "5QW30pduXRu8",
        "outputId": "4e79aca7-0f1f-4a68-8b3e-efa0149509e2"
      },
      "execution_count": null,
      "outputs": [
        {
          "output_type": "execute_result",
          "data": {
            "text/plain": [
              "True"
            ]
          },
          "metadata": {},
          "execution_count": 72
        }
      ]
    },
    {
      "cell_type": "code",
      "source": [
        "x = mg.tensor(2.0)\n",
        "y = mg.tensor(3.0)\n",
        "f = x * y\n",
        "F = f + x - 2"
      ],
      "metadata": {
        "id": "IFyHY1nWXSi-"
      },
      "execution_count": null,
      "outputs": []
    },
    {
      "cell_type": "code",
      "source": [
        "F.backward()\n",
        "print(f.grad)\n",
        "print(y.grad)\n",
        "print(x.grad)"
      ],
      "metadata": {
        "colab": {
          "base_uri": "https://localhost:8080/"
        },
        "id": "NELR6prCYI0V",
        "outputId": "6cae3a42-0de4-46c2-ad45-a3c3eece96e6"
      },
      "execution_count": null,
      "outputs": [
        {
          "output_type": "stream",
          "name": "stdout",
          "text": [
            "1.0\n",
            "2.0\n",
            "4.0\n"
          ]
        }
      ]
    },
    {
      "cell_type": "code",
      "source": [
        "x = mg.tensor(2.5)\n",
        "F = x ** 2\n",
        "F.backward()\n",
        "x.grad"
      ],
      "metadata": {
        "colab": {
          "base_uri": "https://localhost:8080/"
        },
        "id": "1g9dQXAtYbLq",
        "outputId": "4bd4649e-8dfb-4ae2-c35d-65f4fe59ffd0"
      },
      "execution_count": null,
      "outputs": [
        {
          "output_type": "execute_result",
          "data": {
            "text/plain": [
              "array(5.)"
            ]
          },
          "metadata": {},
          "execution_count": 77
        }
      ]
    },
    {
      "cell_type": "code",
      "source": [
        "x = mg.tensor(2.5)\n",
        "F = mg.cos(mg.sqrt(x))\n",
        "F.backward()\n",
        "x.grad"
      ],
      "metadata": {
        "colab": {
          "base_uri": "https://localhost:8080/"
        },
        "id": "c2V5IArqZjO7",
        "outputId": "17a2b26e-85e3-477f-b92c-14cc11bbb53a"
      },
      "execution_count": null,
      "outputs": [
        {
          "output_type": "execute_result",
          "data": {
            "text/plain": [
              "array(-0.31621085)"
            ]
          },
          "metadata": {},
          "execution_count": 78
        }
      ]
    },
    {
      "cell_type": "code",
      "source": [
        "x = mg.tensor(2.5)\n",
        "F = 2 + 3 * x -5 * (x ** 2)\n",
        "F.backward()\n",
        "x.grad"
      ],
      "metadata": {
        "colab": {
          "base_uri": "https://localhost:8080/"
        },
        "id": "H7d5uB6fZr54",
        "outputId": "9feb9ed8-4cdc-4c6e-8162-b100c6538f9c"
      },
      "execution_count": null,
      "outputs": [
        {
          "output_type": "execute_result",
          "data": {
            "text/plain": [
              "array(-22.)"
            ]
          },
          "metadata": {},
          "execution_count": 79
        }
      ]
    },
    {
      "cell_type": "code",
      "source": [
        "x = mg.tensor(2.5)\n",
        "F = mg.exp(mg.log(x))\n",
        "F.backward()\n",
        "x.grad"
      ],
      "metadata": {
        "colab": {
          "base_uri": "https://localhost:8080/"
        },
        "id": "bL5F9CMrZ5yh",
        "outputId": "7f52d202-4505-48c3-ab04-54be5968a564"
      },
      "execution_count": null,
      "outputs": [
        {
          "output_type": "execute_result",
          "data": {
            "text/plain": [
              "array(1.)"
            ]
          },
          "metadata": {},
          "execution_count": 80
        }
      ]
    },
    {
      "cell_type": "code",
      "source": [
        "x = mg.tensor(2.5)\n",
        "f = x ** 2\n",
        "F = (2 * x * f) ** 2 - f\n",
        "F.backward()\n",
        "x.grad"
      ],
      "metadata": {
        "colab": {
          "base_uri": "https://localhost:8080/"
        },
        "id": "mniuML0VaCur",
        "outputId": "739771f7-2cdb-4464-ac87-f42b54c23d58"
      },
      "execution_count": null,
      "outputs": [
        {
          "output_type": "execute_result",
          "data": {
            "text/plain": [
              "array(2338.75)"
            ]
          },
          "metadata": {},
          "execution_count": 81
        }
      ]
    },
    {
      "cell_type": "code",
      "source": [
        "x.null_grad()"
      ],
      "metadata": {
        "colab": {
          "base_uri": "https://localhost:8080/"
        },
        "id": "LgNxwoe8aPEl",
        "outputId": "cd87590c-062c-4281-bccf-75f490487840"
      },
      "execution_count": null,
      "outputs": [
        {
          "output_type": "execute_result",
          "data": {
            "text/plain": [
              "Tensor(2.5)"
            ]
          },
          "metadata": {},
          "execution_count": 82
        }
      ]
    },
    {
      "cell_type": "code",
      "source": [
        "x.grad is None"
      ],
      "metadata": {
        "colab": {
          "base_uri": "https://localhost:8080/"
        },
        "id": "i56W27cCdeZw",
        "outputId": "62cddece-b0c1-4263-ec07-30e6b3b6da9c"
      },
      "execution_count": null,
      "outputs": [
        {
          "output_type": "execute_result",
          "data": {
            "text/plain": [
              "True"
            ]
          },
          "metadata": {},
          "execution_count": 83
        }
      ]
    },
    {
      "cell_type": "code",
      "source": [
        "x = mg.tensor([0.0, 1.0, 2.0, 3.0])\n",
        "x"
      ],
      "metadata": {
        "colab": {
          "base_uri": "https://localhost:8080/"
        },
        "id": "owE3pPK0dgGl",
        "outputId": "52debff0-af23-4fe7-e05c-280e721d131d"
      },
      "execution_count": null,
      "outputs": [
        {
          "output_type": "execute_result",
          "data": {
            "text/plain": [
              "Tensor([0., 1., 2., 3.])"
            ]
          },
          "metadata": {},
          "execution_count": 84
        }
      ]
    },
    {
      "cell_type": "code",
      "source": [
        "x.data"
      ],
      "metadata": {
        "colab": {
          "base_uri": "https://localhost:8080/"
        },
        "id": "OhseudTCfgjW",
        "outputId": "91d9bc33-89c0-4212-b653-25f1807b3833"
      },
      "execution_count": null,
      "outputs": [
        {
          "output_type": "execute_result",
          "data": {
            "text/plain": [
              "array([0., 1., 2., 3.])"
            ]
          },
          "metadata": {},
          "execution_count": 85
        }
      ]
    },
    {
      "cell_type": "code",
      "source": [
        "np.asarray(x)"
      ],
      "metadata": {
        "colab": {
          "base_uri": "https://localhost:8080/"
        },
        "id": "agwHvmmDfhjc",
        "outputId": "a56462d2-37d1-4854-d098-74ade539eae5"
      },
      "execution_count": null,
      "outputs": [
        {
          "output_type": "execute_result",
          "data": {
            "text/plain": [
              "array([0., 1., 2., 3.])"
            ]
          },
          "metadata": {},
          "execution_count": 86
        }
      ]
    },
    {
      "cell_type": "code",
      "source": [
        "mg.asarray(x)"
      ],
      "metadata": {
        "colab": {
          "base_uri": "https://localhost:8080/"
        },
        "id": "uyfGWn0fflmA",
        "outputId": "ff5d2ff3-78a9-4c4c-f254-6957c1df0491"
      },
      "execution_count": null,
      "outputs": [
        {
          "output_type": "execute_result",
          "data": {
            "text/plain": [
              "array([0., 1., 2., 3.])"
            ]
          },
          "metadata": {},
          "execution_count": 87
        }
      ]
    },
    {
      "cell_type": "code",
      "source": [
        "x = mg.tensor(3.)"
      ],
      "metadata": {
        "id": "2-ojPTK_gzZq"
      },
      "execution_count": null,
      "outputs": []
    },
    {
      "cell_type": "code",
      "source": [
        "f = np.square(x)\n",
        "f"
      ],
      "metadata": {
        "colab": {
          "base_uri": "https://localhost:8080/"
        },
        "id": "oGKgaMxfg2IS",
        "outputId": "0f3bef65-85ab-41fe-8ab1-8262b828c80e"
      },
      "execution_count": null,
      "outputs": [
        {
          "output_type": "execute_result",
          "data": {
            "text/plain": [
              "Tensor(9.)"
            ]
          },
          "metadata": {},
          "execution_count": 89
        }
      ]
    },
    {
      "cell_type": "code",
      "source": [
        "f.backward()\n",
        "x.grad"
      ],
      "metadata": {
        "colab": {
          "base_uri": "https://localhost:8080/"
        },
        "id": "PZzumO-vg5U9",
        "outputId": "55b5c175-81fa-4fdf-a2e6-b3a15a54bcf5"
      },
      "execution_count": null,
      "outputs": [
        {
          "output_type": "execute_result",
          "data": {
            "text/plain": [
              "array(6.)"
            ]
          },
          "metadata": {},
          "execution_count": 90
        }
      ]
    },
    {
      "cell_type": "code",
      "source": [
        "x = mg.tensor(1.)\n",
        "y = np.array(2.)\n",
        "F = x * y\n",
        "F.backward()"
      ],
      "metadata": {
        "id": "I_QeLoI_g-0S"
      },
      "execution_count": null,
      "outputs": []
    },
    {
      "cell_type": "code",
      "source": [
        "x.grad"
      ],
      "metadata": {
        "colab": {
          "base_uri": "https://localhost:8080/"
        },
        "id": "BcsBRujaja42",
        "outputId": "251a041d-6a0a-45c4-8e33-b5f7dfaca492"
      },
      "execution_count": null,
      "outputs": [
        {
          "output_type": "execute_result",
          "data": {
            "text/plain": [
              "array(2.)"
            ]
          },
          "metadata": {},
          "execution_count": 93
        }
      ]
    },
    {
      "cell_type": "code",
      "source": [
        "#y.grad"
      ],
      "metadata": {
        "id": "KKwtLTmOjb5y"
      },
      "execution_count": null,
      "outputs": []
    },
    {
      "cell_type": "code",
      "source": [
        "x = mg.tensor(1.)\n",
        "y = mg.tensor(2., constant=True)\n",
        "F = x * y\n",
        "F.backward()"
      ],
      "metadata": {
        "id": "gMJL7B3fje8_"
      },
      "execution_count": null,
      "outputs": []
    },
    {
      "cell_type": "code",
      "source": [
        "x.constant"
      ],
      "metadata": {
        "colab": {
          "base_uri": "https://localhost:8080/"
        },
        "id": "zM20v2Z4j_QW",
        "outputId": "33c64495-5ebd-403e-83a9-9ae154caba87"
      },
      "execution_count": null,
      "outputs": [
        {
          "output_type": "execute_result",
          "data": {
            "text/plain": [
              "False"
            ]
          },
          "metadata": {},
          "execution_count": 99
        }
      ]
    },
    {
      "cell_type": "code",
      "source": [
        "y.constant"
      ],
      "metadata": {
        "colab": {
          "base_uri": "https://localhost:8080/"
        },
        "id": "9rW8LMRlkA7o",
        "outputId": "fde80f21-a4f6-4282-8fa0-63de0b85b459"
      },
      "execution_count": null,
      "outputs": [
        {
          "output_type": "execute_result",
          "data": {
            "text/plain": [
              "True"
            ]
          },
          "metadata": {},
          "execution_count": 100
        }
      ]
    },
    {
      "cell_type": "code",
      "source": [
        "F.grad"
      ],
      "metadata": {
        "colab": {
          "base_uri": "https://localhost:8080/"
        },
        "id": "H84YM40OkCR0",
        "outputId": "c36c60fe-91cc-41d6-d093-99afa8b106b7"
      },
      "execution_count": null,
      "outputs": [
        {
          "output_type": "execute_result",
          "data": {
            "text/plain": [
              "array(1.)"
            ]
          },
          "metadata": {},
          "execution_count": 101
        }
      ]
    },
    {
      "cell_type": "code",
      "source": [
        "x.grad"
      ],
      "metadata": {
        "colab": {
          "base_uri": "https://localhost:8080/"
        },
        "id": "sYdgrWu3kGaY",
        "outputId": "2fabdca7-9eef-42c5-c258-b9cad9216a2d"
      },
      "execution_count": null,
      "outputs": [
        {
          "output_type": "execute_result",
          "data": {
            "text/plain": [
              "array(2.)"
            ]
          },
          "metadata": {},
          "execution_count": 102
        }
      ]
    },
    {
      "cell_type": "code",
      "source": [
        "y.grad is None"
      ],
      "metadata": {
        "colab": {
          "base_uri": "https://localhost:8080/"
        },
        "id": "Ad_XuWzYkITR",
        "outputId": "c01ab012-e91e-4983-bced-f23f2d1111c6"
      },
      "execution_count": null,
      "outputs": [
        {
          "output_type": "execute_result",
          "data": {
            "text/plain": [
              "True"
            ]
          },
          "metadata": {},
          "execution_count": 104
        }
      ]
    },
    {
      "cell_type": "code",
      "source": [
        "tensor = mg.tensor([2.0, 4.0, 8.0])\n",
        "arr = np.array([-1.0, 2.0, 0])\n",
        "F = (arr * tensor ** 2).sum()\n",
        "F.backward()"
      ],
      "metadata": {
        "id": "c0tJIlCkkJTC"
      },
      "execution_count": null,
      "outputs": []
    },
    {
      "cell_type": "code",
      "source": [
        "tensor.grad"
      ],
      "metadata": {
        "colab": {
          "base_uri": "https://localhost:8080/"
        },
        "id": "-mQ5KoJ9r1zs",
        "outputId": "4b596ace-ab2b-4951-b4fb-3c38faf81c2d"
      },
      "execution_count": null,
      "outputs": [
        {
          "output_type": "execute_result",
          "data": {
            "text/plain": [
              "array([-4., 16.,  0.])"
            ]
          },
          "metadata": {},
          "execution_count": 106
        }
      ]
    },
    {
      "cell_type": "code",
      "source": [
        "tensor = mg.linspace(-5, 5, 20)\n",
        "F = tensor ** 2\n",
        "tensor.grad\n",
        "F.backward()"
      ],
      "metadata": {
        "id": "Gm5HwxgOsrqH"
      },
      "execution_count": null,
      "outputs": []
    },
    {
      "cell_type": "code",
      "source": [
        "import matplotlib.pyplot as plt\n",
        "\n",
        "def draw(x, f):\n",
        "  x = mg.tensor(x)\n",
        "  y = f(x)\n",
        "  y.backward()\n",
        "\n",
        "  fig, ax = plt.subplots()\n",
        "  ax.plot(x.data, y, c=\"red\", label=\"original graph\")\n",
        "  ax.plot(x.data, x.grad, c=\"blue\", label=\"derivative function\")\n",
        "  ax.legend()\n",
        "  ax.grid()\n",
        "\n",
        "  return fig, ax"
      ],
      "metadata": {
        "id": "ifzJon0kuT7A"
      },
      "execution_count": null,
      "outputs": []
    },
    {
      "cell_type": "code",
      "source": [
        "def f(x):\n",
        "\treturn mg.sin(2*x) * mg.cos(x) * mg.exp(-x / 3)\n",
        "\n",
        "x = mg.linspace(0, 10, 10000)\n",
        "fig, ax = draw(x, f)"
      ],
      "metadata": {
        "colab": {
          "base_uri": "https://localhost:8080/",
          "height": 265
        },
        "id": "mFmM6HDA1lWR",
        "outputId": "c28e97eb-d0b6-4028-b34f-0b38dc607bd6"
      },
      "execution_count": null,
      "outputs": [
        {
          "output_type": "display_data",
          "data": {
            "text/plain": [
              "<Figure size 432x288 with 1 Axes>"
            ],
            "image/png": "[encoded data removed]"
          },
          "metadata": {
            "needs_background": "light"
          }
        }
      ]
    },
    {
      "cell_type": "code",
      "source": [
        "def descent_down_parabola(w_start, learning_rate, num_steps):\n",
        "  w_values = [w_start]\n",
        "  for _ in range(num_steps):\n",
        "    w_old = w_values[-1]\n",
        "    w_new = w_old - learning_rate * (2 * w_old)\n",
        "    w_values.append(w_new)\n",
        "  return np.array(w_values)"
      ],
      "metadata": {
        "id": "NIrzOF9a2pCc"
      },
      "execution_count": null,
      "outputs": []
    },
    {
      "cell_type": "code",
      "source": [
        "w = mg.tensor(10.0)\n",
        "learning_rate = 0.3\n",
        "num_steps = 5\n",
        "print(w)"
      ],
      "metadata": {
        "colab": {
          "base_uri": "https://localhost:8080/"
        },
        "id": "aHlxGHCs4Q29",
        "outputId": "85c1f23f-a989-4dec-be0a-87acad9ccdf4"
      },
      "execution_count": null,
      "outputs": [
        {
          "output_type": "stream",
          "name": "stdout",
          "text": [
            "Tensor(10.)\n"
          ]
        }
      ]
    },
    {
      "cell_type": "code",
      "source": [
        "for _ in range(num_steps):\n",
        "    ℒ = w ** 2\n",
        "    ℒ.backward()\n",
        "    w = w - learning_rate * w.grad\n",
        "    print(w)"
      ],
      "metadata": {
        "colab": {
          "base_uri": "https://localhost:8080/"
        },
        "id": "BOxlYs935BaI",
        "outputId": "9e74759c-2441-439b-c5d5-c8ce4ca94be6"
      },
      "execution_count": null,
      "outputs": [
        {
          "output_type": "stream",
          "name": "stdout",
          "text": [
            "Tensor(4.)\n",
            "Tensor(1.6)\n",
            "Tensor(0.64)\n",
            "Tensor(0.256)\n",
            "Tensor(0.1024)\n"
          ]
        }
      ]
    },
    {
      "cell_type": "code",
      "source": [
        "def descent_down_2d_parabola(w_start, learning_rate, num_steps):\n",
        "  xy_values = [w_start]\n",
        "  for _ in range(num_steps):\n",
        "    xy_old = xy_values[-1]\n",
        "    xy_new = xy_old - learning_rate * (np.array([4., 6.]) * xy_old)\n",
        "    xy_values.append(xy_new)\n",
        "  return np.array(xy_values)"
      ],
      "metadata": {
        "id": "fEPfeXLj6Zp3"
      },
      "execution_count": null,
      "outputs": []
    },
    {
      "cell_type": "code",
      "source": [
        "w = mg.Tensor([2., 4.])\n",
        "learning_rate = 0.1\n",
        "num_steps = 5"
      ],
      "metadata": {
        "id": "MJE-pniZfGB8"
      },
      "execution_count": null,
      "outputs": []
    },
    {
      "cell_type": "code",
      "source": [
        "const = np.array([2.0, 3.0])\n",
        "for _ in range(num_steps):\n",
        "  ℒ = const * w ** 2\n",
        "  ℒ.backward()\n",
        "  w -= learning_rate * w.grad\n",
        "\n",
        "  print(w)"
      ],
      "metadata": {
        "colab": {
          "base_uri": "https://localhost:8080/"
        },
        "id": "rsDvhbouf8PO",
        "outputId": "0d013fee-3191-4ac5-8d0a-0af992228eb8"
      },
      "execution_count": null,
      "outputs": [
        {
          "output_type": "stream",
          "name": "stdout",
          "text": [
            "Tensor([1.2, 1.6])\n",
            "Tensor([0.72, 0.64])\n",
            "Tensor([0.432, 0.256])\n",
            "Tensor([0.2592, 0.1024])\n",
            "Tensor([0.15552, 0.04096])\n"
          ]
        }
      ]
    },
    {
      "cell_type": "code",
      "source": [
        "def gradient_step(tensors, learning_rate):\n",
        "    \"\"\"\n",
        "    경사하강법의 공식에 따라 gradient-step을 실행.\n",
        "    \n",
        "    매개변수 (Parameters)\n",
        "    ----------\n",
        "    tensors : Union[Tensor, Iterable[Tensors]]\n",
        "        단일 텐서, 혹은 텐서로 이루어진 iterable(리스트, 튜플 등) 모두 가능\n",
        "        만약 특정 tensor에 대한 `tensor.grad`가 `None`인 경우, 업데이트를 건너 뜀\n",
        "\n",
        "    learning_rate : float\n",
        "        매 gradient-step에서의 학습률. 양수\n",
        "\n",
        "    참고\n",
        "    -----\n",
        "    함수에서 진행되는 모든 gradient-steps는 tensor 내에서 바로 반영되므로, 반환 값 없음\n",
        "    \"\"\"\n",
        "\n",
        "    # for 문을 이용하여 tensors의 tensor를 하나씩 꺼내며 경사하강을 진행\n",
        "    if isinstance(tensors, mg.Tensor):\n",
        "        tensors = [tensors]\n",
        "\n",
        "    # for 문을 이용하여 tensors의 tensor를 하나씩 꺼내며 경사하강을 진행\n",
        "    for t in tensors:\n",
        "        if t.grad is not None:\n",
        "            t -= learning_rate * t.grad\n",
        "    \n",
        "    "
      ],
      "metadata": {
        "id": "CF4Ao2hFkVdv"
      },
      "execution_count": null,
      "outputs": []
    },
    {
      "cell_type": "code",
      "source": [
        "w = mg.Tensor(10.0)\n",
        "learning_rate = 0.3\n",
        "num_steps = 5"
      ],
      "metadata": {
        "id": "nsjbeKcChpBi"
      },
      "execution_count": null,
      "outputs": []
    },
    {
      "cell_type": "code",
      "source": [
        "for _ in range(num_steps):\n",
        "    ℒ = w ** 2\n",
        "    ℒ.backward()\n",
        "    gradient_step(w, learning_rate=learning_rate)\n",
        "    print(w)"
      ],
      "metadata": {
        "colab": {
          "base_uri": "https://localhost:8080/"
        },
        "id": "VPFFGKlekU7O",
        "outputId": "34b5f9f6-6ffb-4640-c57d-ea389e9b6308"
      },
      "execution_count": null,
      "outputs": [
        {
          "output_type": "stream",
          "name": "stdout",
          "text": [
            "Tensor(4.)\n",
            "Tensor(1.6)\n",
            "Tensor(0.64)\n",
            "Tensor(0.256)\n",
            "Tensor(0.1024)\n"
          ]
        }
      ]
    },
    {
      "cell_type": "code",
      "source": [
        ""
      ],
      "metadata": {
        "id": "oFSFugmmo-G9"
      },
      "execution_count": null,
      "outputs": []
    }
  ]
}